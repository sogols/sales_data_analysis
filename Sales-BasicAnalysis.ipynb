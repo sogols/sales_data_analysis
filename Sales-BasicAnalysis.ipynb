{
 "cells": [
  {
   "cell_type": "markdown",
   "metadata": {},
   "source": [
    "# SALES PROJECT - BASIC SQL ANALYSIS"
   ]
  },
  {
   "cell_type": "markdown",
   "metadata": {},
   "source": [
    "# Basic Analysis"
   ]
  },
  {
   "cell_type": "code",
   "execution_count": 1,
   "metadata": {},
   "outputs": [],
   "source": [
    "%load_ext sql\n",
    "%sql sqlite:///sales.db"
   ]
  },
  {
   "cell_type": "markdown",
   "metadata": {},
   "source": [
    "### Total customers"
   ]
  },
  {
   "cell_type": "code",
   "execution_count": 2,
   "metadata": {},
   "outputs": [
    {
     "name": "stdout",
     "output_type": "stream",
     "text": [
      " * sqlite:///sales.db\n",
      "Done.\n"
     ]
    },
    {
     "data": {
      "text/html": [
       "<table>\n",
       "    <tr>\n",
       "        <th>total_customers</th>\n",
       "    </tr>\n",
       "    <tr>\n",
       "        <td>34</td>\n",
       "    </tr>\n",
       "</table>"
      ],
      "text/plain": [
       "[(34,)]"
      ]
     },
     "execution_count": 2,
     "metadata": {},
     "output_type": "execute_result"
    }
   ],
   "source": [
    "%%sql\n",
    "SELECT COUNT(*) as total_customers FROM customers"
   ]
  },
  {
   "cell_type": "markdown",
   "metadata": {},
   "source": [
    "### Total orders"
   ]
  },
  {
   "cell_type": "code",
   "execution_count": 3,
   "metadata": {},
   "outputs": [
    {
     "name": "stdout",
     "output_type": "stream",
     "text": [
      " * sqlite:///sales.db\n",
      "Done.\n"
     ]
    },
    {
     "data": {
      "text/html": [
       "<table>\n",
       "    <tr>\n",
       "        <th>total_orders</th>\n",
       "    </tr>\n",
       "    <tr>\n",
       "        <td>114</td>\n",
       "    </tr>\n",
       "</table>"
      ],
      "text/plain": [
       "[(114,)]"
      ]
     },
     "execution_count": 3,
     "metadata": {},
     "output_type": "execute_result"
    }
   ],
   "source": [
    "%%sql\n",
    "SELECT COUNT(*) as total_orders FROM orders"
   ]
  },
  {
   "cell_type": "markdown",
   "metadata": {},
   "source": [
    "### Total products"
   ]
  },
  {
   "cell_type": "code",
   "execution_count": 4,
   "metadata": {},
   "outputs": [
    {
     "name": "stdout",
     "output_type": "stream",
     "text": [
      " * sqlite:///sales.db\n",
      "Done.\n"
     ]
    },
    {
     "data": {
      "text/html": [
       "<table>\n",
       "    <tr>\n",
       "        <th>total_products</th>\n",
       "    </tr>\n",
       "    <tr>\n",
       "        <td>32</td>\n",
       "    </tr>\n",
       "</table>"
      ],
      "text/plain": [
       "[(32,)]"
      ]
     },
     "execution_count": 4,
     "metadata": {},
     "output_type": "execute_result"
    }
   ],
   "source": [
    "%%sql\n",
    "SELECT COUNT(*) as total_products FROM products"
   ]
  },
  {
   "cell_type": "markdown",
   "metadata": {},
   "source": [
    "### Total categories"
   ]
  },
  {
   "cell_type": "code",
   "execution_count": 5,
   "metadata": {},
   "outputs": [
    {
     "name": "stdout",
     "output_type": "stream",
     "text": [
      " * sqlite:///sales.db\n",
      "Done.\n"
     ]
    },
    {
     "data": {
      "text/html": [
       "<table>\n",
       "    <tr>\n",
       "        <th>total_categories</th>\n",
       "    </tr>\n",
       "    <tr>\n",
       "        <td>5</td>\n",
       "    </tr>\n",
       "</table>"
      ],
      "text/plain": [
       "[(5,)]"
      ]
     },
     "execution_count": 5,
     "metadata": {},
     "output_type": "execute_result"
    }
   ],
   "source": [
    "%%sql\n",
    "SELECT COUNT(DISTINCT category) as total_categories\n",
    "FROM products"
   ]
  },
  {
   "cell_type": "markdown",
   "metadata": {},
   "source": [
    "### Total orders per city"
   ]
  },
  {
   "cell_type": "code",
   "execution_count": 6,
   "metadata": {},
   "outputs": [
    {
     "name": "stdout",
     "output_type": "stream",
     "text": [
      " * sqlite:///sales.db\n",
      "Done.\n"
     ]
    },
    {
     "data": {
      "text/html": [
       "<table>\n",
       "    <tr>\n",
       "        <th>city</th>\n",
       "        <th>order_count</th>\n",
       "    </tr>\n",
       "    <tr>\n",
       "        <td>Los Angeles</td>\n",
       "        <td>14</td>\n",
       "    </tr>\n",
       "    <tr>\n",
       "        <td>Virginia</td>\n",
       "        <td>11</td>\n",
       "    </tr>\n",
       "    <tr>\n",
       "        <td>Phoenix</td>\n",
       "        <td>9</td>\n",
       "    </tr>\n",
       "    <tr>\n",
       "        <td>Austin</td>\n",
       "        <td>8</td>\n",
       "    </tr>\n",
       "    <tr>\n",
       "        <td>Unknown</td>\n",
       "        <td>8</td>\n",
       "    </tr>\n",
       "    <tr>\n",
       "        <td>New York</td>\n",
       "        <td>6</td>\n",
       "    </tr>\n",
       "    <tr>\n",
       "        <td>Chicago</td>\n",
       "        <td>5</td>\n",
       "    </tr>\n",
       "</table>"
      ],
      "text/plain": [
       "[('Los Angeles', 14),\n",
       " ('Virginia', 11),\n",
       " ('Phoenix', 9),\n",
       " ('Austin', 8),\n",
       " ('Unknown', 8),\n",
       " ('New York', 6),\n",
       " ('Chicago', 5)]"
      ]
     },
     "execution_count": 6,
     "metadata": {},
     "output_type": "execute_result"
    }
   ],
   "source": [
    "%%sql\n",
    "SELECT \n",
    "  c.city,\n",
    "  COUNT(o.order_id) AS order_count\n",
    "FROM Orders o\n",
    "JOIN Customers c ON o.customer_id = c.customer_id\n",
    "GROUP BY c.city\n",
    "ORDER BY order_count DESC\n",
    "LIMIT 7;"
   ]
  },
  {
   "cell_type": "markdown",
   "metadata": {},
   "source": [
    "### Genders distribution"
   ]
  },
  {
   "cell_type": "code",
   "execution_count": 7,
   "metadata": {},
   "outputs": [
    {
     "name": "stdout",
     "output_type": "stream",
     "text": [
      " * sqlite:///sales.db\n",
      "Done.\n"
     ]
    },
    {
     "data": {
      "text/html": [
       "<table>\n",
       "    <tr>\n",
       "        <th>gender</th>\n",
       "        <th>count</th>\n",
       "    </tr>\n",
       "    <tr>\n",
       "        <td>F</td>\n",
       "        <td>15</td>\n",
       "    </tr>\n",
       "    <tr>\n",
       "        <td>M</td>\n",
       "        <td>19</td>\n",
       "    </tr>\n",
       "</table>"
      ],
      "text/plain": [
       "[('F', 15), ('M', 19)]"
      ]
     },
     "execution_count": 7,
     "metadata": {},
     "output_type": "execute_result"
    }
   ],
   "source": [
    "%%sql\n",
    "SELECT gender, COUNT(*) AS count\n",
    "FROM customers\n",
    "GROUP BY gender"
   ]
  },
  {
   "cell_type": "markdown",
   "metadata": {},
   "source": [
    "### Monthly sale distribution"
   ]
  },
  {
   "cell_type": "markdown",
   "metadata": {},
   "source": [
    "##### order by month"
   ]
  },
  {
   "cell_type": "code",
   "execution_count": 8,
   "metadata": {},
   "outputs": [
    {
     "name": "stdout",
     "output_type": "stream",
     "text": [
      " * sqlite:///sales.db\n",
      "Done.\n"
     ]
    },
    {
     "data": {
      "text/html": [
       "<table>\n",
       "    <tr>\n",
       "        <th>month</th>\n",
       "        <th>total_orders</th>\n",
       "    </tr>\n",
       "    <tr>\n",
       "        <td>2024-01</td>\n",
       "        <td>10</td>\n",
       "    </tr>\n",
       "    <tr>\n",
       "        <td>2024-02</td>\n",
       "        <td>10</td>\n",
       "    </tr>\n",
       "    <tr>\n",
       "        <td>2024-03</td>\n",
       "        <td>13</td>\n",
       "    </tr>\n",
       "    <tr>\n",
       "        <td>2024-04</td>\n",
       "        <td>17</td>\n",
       "    </tr>\n",
       "    <tr>\n",
       "        <td>2024-05</td>\n",
       "        <td>19</td>\n",
       "    </tr>\n",
       "    <tr>\n",
       "        <td>2024-06</td>\n",
       "        <td>19</td>\n",
       "    </tr>\n",
       "    <tr>\n",
       "        <td>2024-07</td>\n",
       "        <td>5</td>\n",
       "    </tr>\n",
       "    <tr>\n",
       "        <td>2024-08</td>\n",
       "        <td>4</td>\n",
       "    </tr>\n",
       "    <tr>\n",
       "        <td>2024-09</td>\n",
       "        <td>4</td>\n",
       "    </tr>\n",
       "    <tr>\n",
       "        <td>2024-10</td>\n",
       "        <td>4</td>\n",
       "    </tr>\n",
       "    <tr>\n",
       "        <td>2024-11</td>\n",
       "        <td>4</td>\n",
       "    </tr>\n",
       "    <tr>\n",
       "        <td>2024-12</td>\n",
       "        <td>5</td>\n",
       "    </tr>\n",
       "</table>"
      ],
      "text/plain": [
       "[('2024-01', 10),\n",
       " ('2024-02', 10),\n",
       " ('2024-03', 13),\n",
       " ('2024-04', 17),\n",
       " ('2024-05', 19),\n",
       " ('2024-06', 19),\n",
       " ('2024-07', 5),\n",
       " ('2024-08', 4),\n",
       " ('2024-09', 4),\n",
       " ('2024-10', 4),\n",
       " ('2024-11', 4),\n",
       " ('2024-12', 5)]"
      ]
     },
     "execution_count": 8,
     "metadata": {},
     "output_type": "execute_result"
    }
   ],
   "source": [
    "%%sql\n",
    "SELECT \n",
    "  strftime('%Y-%m', order_date) AS month,\n",
    "  COUNT(*) AS total_orders\n",
    "FROM Orders\n",
    "WHERE order_date IS NOT NULL\n",
    "GROUP BY month\n",
    "ORDER BY month;"
   ]
  },
  {
   "cell_type": "markdown",
   "metadata": {},
   "source": [
    "##### order by total orders"
   ]
  },
  {
   "cell_type": "code",
   "execution_count": 9,
   "metadata": {},
   "outputs": [
    {
     "name": "stdout",
     "output_type": "stream",
     "text": [
      " * sqlite:///sales.db\n",
      "Done.\n"
     ]
    },
    {
     "data": {
      "text/html": [
       "<table>\n",
       "    <tr>\n",
       "        <th>month</th>\n",
       "        <th>total_orders</th>\n",
       "    </tr>\n",
       "    <tr>\n",
       "        <td>2024-05</td>\n",
       "        <td>19</td>\n",
       "    </tr>\n",
       "    <tr>\n",
       "        <td>2024-06</td>\n",
       "        <td>19</td>\n",
       "    </tr>\n",
       "    <tr>\n",
       "        <td>2024-04</td>\n",
       "        <td>17</td>\n",
       "    </tr>\n",
       "    <tr>\n",
       "        <td>2024-03</td>\n",
       "        <td>13</td>\n",
       "    </tr>\n",
       "    <tr>\n",
       "        <td>2024-01</td>\n",
       "        <td>10</td>\n",
       "    </tr>\n",
       "    <tr>\n",
       "        <td>2024-02</td>\n",
       "        <td>10</td>\n",
       "    </tr>\n",
       "    <tr>\n",
       "        <td>2024-07</td>\n",
       "        <td>5</td>\n",
       "    </tr>\n",
       "    <tr>\n",
       "        <td>2024-12</td>\n",
       "        <td>5</td>\n",
       "    </tr>\n",
       "    <tr>\n",
       "        <td>2024-08</td>\n",
       "        <td>4</td>\n",
       "    </tr>\n",
       "    <tr>\n",
       "        <td>2024-09</td>\n",
       "        <td>4</td>\n",
       "    </tr>\n",
       "    <tr>\n",
       "        <td>2024-10</td>\n",
       "        <td>4</td>\n",
       "    </tr>\n",
       "    <tr>\n",
       "        <td>2024-11</td>\n",
       "        <td>4</td>\n",
       "    </tr>\n",
       "</table>"
      ],
      "text/plain": [
       "[('2024-05', 19),\n",
       " ('2024-06', 19),\n",
       " ('2024-04', 17),\n",
       " ('2024-03', 13),\n",
       " ('2024-01', 10),\n",
       " ('2024-02', 10),\n",
       " ('2024-07', 5),\n",
       " ('2024-12', 5),\n",
       " ('2024-08', 4),\n",
       " ('2024-09', 4),\n",
       " ('2024-10', 4),\n",
       " ('2024-11', 4)]"
      ]
     },
     "execution_count": 9,
     "metadata": {},
     "output_type": "execute_result"
    }
   ],
   "source": [
    "%%sql\n",
    "SELECT \n",
    "  strftime('%Y-%m', order_date) AS month,\n",
    "  COUNT(*) AS total_orders\n",
    "FROM Orders\n",
    "WHERE order_date IS NOT NULL\n",
    "GROUP BY month\n",
    "ORDER BY total_orders DESC;"
   ]
  },
  {
   "cell_type": "markdown",
   "metadata": {},
   "source": [
    "### Most sold products"
   ]
  },
  {
   "cell_type": "code",
   "execution_count": 10,
   "metadata": {},
   "outputs": [
    {
     "name": "stdout",
     "output_type": "stream",
     "text": [
      " * sqlite:///sales.db\n",
      "Done.\n"
     ]
    },
    {
     "data": {
      "text/html": [
       "<table>\n",
       "    <tr>\n",
       "        <th>product_name</th>\n",
       "        <th>total_quantity_sold</th>\n",
       "    </tr>\n",
       "    <tr>\n",
       "        <td>Airpods</td>\n",
       "        <td>17</td>\n",
       "    </tr>\n",
       "    <tr>\n",
       "        <td>Refrigerator</td>\n",
       "        <td>14</td>\n",
       "    </tr>\n",
       "    <tr>\n",
       "        <td>Air Conditioner</td>\n",
       "        <td>14</td>\n",
       "    </tr>\n",
       "    <tr>\n",
       "        <td>Running Shoes</td>\n",
       "        <td>14</td>\n",
       "    </tr>\n",
       "    <tr>\n",
       "        <td>Office Chair</td>\n",
       "        <td>13</td>\n",
       "    </tr>\n",
       "    <tr>\n",
       "        <td>Electric Kettle</td>\n",
       "        <td>12</td>\n",
       "    </tr>\n",
       "    <tr>\n",
       "        <td>Hair Dryer</td>\n",
       "        <td>11</td>\n",
       "    </tr>\n",
       "</table>"
      ],
      "text/plain": [
       "[('Airpods', 17),\n",
       " ('Refrigerator', 14),\n",
       " ('Air Conditioner', 14),\n",
       " ('Running Shoes', 14),\n",
       " ('Office Chair', 13),\n",
       " ('Electric Kettle', 12),\n",
       " ('Hair Dryer', 11)]"
      ]
     },
     "execution_count": 10,
     "metadata": {},
     "output_type": "execute_result"
    }
   ],
   "source": [
    "%%sql\n",
    "SELECT \n",
    "  p.product_name,\n",
    "  SUM(od.quantity) AS total_quantity_sold\n",
    "FROM OrderDetails od\n",
    "JOIN Products p ON od.product_id = p.product_id\n",
    "GROUP BY p.product_id\n",
    "ORDER BY total_quantity_sold DESC\n",
    "LIMIT 7;"
   ]
  },
  {
   "cell_type": "markdown",
   "metadata": {},
   "source": [
    "### Products total sale"
   ]
  },
  {
   "cell_type": "code",
   "execution_count": 11,
   "metadata": {},
   "outputs": [
    {
     "name": "stdout",
     "output_type": "stream",
     "text": [
      " * sqlite:///sales.db\n",
      "Done.\n"
     ]
    },
    {
     "data": {
      "text/html": [
       "<table>\n",
       "    <tr>\n",
       "        <th>product_name</th>\n",
       "        <th>product_total_sale</th>\n",
       "    </tr>\n",
       "    <tr>\n",
       "        <td>Smart TV</td>\n",
       "        <td>9900.0</td>\n",
       "    </tr>\n",
       "    <tr>\n",
       "        <td>Laptop Dell XPS</td>\n",
       "        <td>8400.0</td>\n",
       "    </tr>\n",
       "    <tr>\n",
       "        <td>Refrigerator</td>\n",
       "        <td>7000.0</td>\n",
       "    </tr>\n",
       "    <tr>\n",
       "        <td>Dishwasher</td>\n",
       "        <td>4950.0</td>\n",
       "    </tr>\n",
       "    <tr>\n",
       "        <td>Air Conditioner</td>\n",
       "        <td>4900.0</td>\n",
       "    </tr>\n",
       "    <tr>\n",
       "        <td>Mountain Bike</td>\n",
       "        <td>4900.0</td>\n",
       "    </tr>\n",
       "    <tr>\n",
       "        <td>Dining Table</td>\n",
       "        <td>4800.0</td>\n",
       "    </tr>\n",
       "    <tr>\n",
       "        <td>Smartphone iPhone</td>\n",
       "        <td>3996.0</td>\n",
       "    </tr>\n",
       "    <tr>\n",
       "        <td>Office Chair</td>\n",
       "        <td>3900.0</td>\n",
       "    </tr>\n",
       "    <tr>\n",
       "        <td>Airpods</td>\n",
       "        <td>3400.0</td>\n",
       "    </tr>\n",
       "</table>"
      ],
      "text/plain": [
       "[('Smart TV', 9900.0),\n",
       " ('Laptop Dell XPS', 8400.0),\n",
       " ('Refrigerator', 7000.0),\n",
       " ('Dishwasher', 4950.0),\n",
       " ('Air Conditioner', 4900.0),\n",
       " ('Mountain Bike', 4900.0),\n",
       " ('Dining Table', 4800.0),\n",
       " ('Smartphone iPhone', 3996.0),\n",
       " ('Office Chair', 3900.0),\n",
       " ('Airpods', 3400.0)]"
      ]
     },
     "execution_count": 11,
     "metadata": {},
     "output_type": "execute_result"
    }
   ],
   "source": [
    "%%sql\n",
    "SELECT p.product_name, SUM(od.quantity*p.price) AS product_total_sale\n",
    "FROM products p\n",
    "JOIN orderdetails od ON od.product_id = p.product_id\n",
    "GROUP BY p.product_name\n",
    "ORDER BY product_total_sale DESC\n",
    "LIMIT 10;"
   ]
  },
  {
   "cell_type": "markdown",
   "metadata": {},
   "source": [
    "### Products average quantity"
   ]
  },
  {
   "cell_type": "code",
   "execution_count": 12,
   "metadata": {},
   "outputs": [
    {
     "name": "stdout",
     "output_type": "stream",
     "text": [
      " * sqlite:///sales.db\n",
      "Done.\n"
     ]
    },
    {
     "data": {
      "text/html": [
       "<table>\n",
       "    <tr>\n",
       "        <th>product_name</th>\n",
       "        <th>average_quantity</th>\n",
       "    </tr>\n",
       "    <tr>\n",
       "        <td>Microwave Oven</td>\n",
       "        <td>3.3333333333333335</td>\n",
       "    </tr>\n",
       "    <tr>\n",
       "        <td>Blender</td>\n",
       "        <td>3.0</td>\n",
       "    </tr>\n",
       "    <tr>\n",
       "        <td>Electric Kettle</td>\n",
       "        <td>3.0</td>\n",
       "    </tr>\n",
       "    <tr>\n",
       "        <td>Airpods</td>\n",
       "        <td>2.8333333333333335</td>\n",
       "    </tr>\n",
       "    <tr>\n",
       "        <td>Running Shoes</td>\n",
       "        <td>2.8</td>\n",
       "    </tr>\n",
       "    <tr>\n",
       "        <td>Dining Table</td>\n",
       "        <td>2.6666666666666665</td>\n",
       "    </tr>\n",
       "    <tr>\n",
       "        <td>Office Chair</td>\n",
       "        <td>2.6</td>\n",
       "    </tr>\n",
       "    <tr>\n",
       "        <td>LED Desk Lamp</td>\n",
       "        <td>2.5</td>\n",
       "    </tr>\n",
       "    <tr>\n",
       "        <td>Wireless Mouse</td>\n",
       "        <td>2.5</td>\n",
       "    </tr>\n",
       "    <tr>\n",
       "        <td>Air Conditioner</td>\n",
       "        <td>2.3333333333333335</td>\n",
       "    </tr>\n",
       "</table>"
      ],
      "text/plain": [
       "[('Microwave Oven', 3.3333333333333335),\n",
       " ('Blender', 3.0),\n",
       " ('Electric Kettle', 3.0),\n",
       " ('Airpods', 2.8333333333333335),\n",
       " ('Running Shoes', 2.8),\n",
       " ('Dining Table', 2.6666666666666665),\n",
       " ('Office Chair', 2.6),\n",
       " ('LED Desk Lamp', 2.5),\n",
       " ('Wireless Mouse', 2.5),\n",
       " ('Air Conditioner', 2.3333333333333335)]"
      ]
     },
     "execution_count": 12,
     "metadata": {},
     "output_type": "execute_result"
    }
   ],
   "source": [
    "%%sql\n",
    "SELECT p.product_name, AVG(od.quantity) as average_quantity\n",
    "FROM products p\n",
    "JOIN orderdetails od ON od.product_id = p.product_id\n",
    "GROUP BY p.product_name\n",
    "ORDER BY average_quantity DESC\n",
    "LIMIT 10;"
   ]
  },
  {
   "cell_type": "markdown",
   "metadata": {},
   "source": [
    "### Products with always 1 quantity"
   ]
  },
  {
   "cell_type": "code",
   "execution_count": 13,
   "metadata": {},
   "outputs": [
    {
     "name": "stdout",
     "output_type": "stream",
     "text": [
      " * sqlite:///sales.db\n",
      "Done.\n"
     ]
    },
    {
     "data": {
      "text/html": [
       "<table>\n",
       "    <tr>\n",
       "        <th>product_name</th>\n",
       "        <th>quantity</th>\n",
       "    </tr>\n",
       "    <tr>\n",
       "        <td>Air Conditioner</td>\n",
       "        <td>1</td>\n",
       "    </tr>\n",
       "    <tr>\n",
       "        <td>Airpods</td>\n",
       "        <td>1</td>\n",
       "    </tr>\n",
       "    <tr>\n",
       "        <td>Blender</td>\n",
       "        <td>1</td>\n",
       "    </tr>\n",
       "    <tr>\n",
       "        <td>Bluetooth Headphones</td>\n",
       "        <td>1</td>\n",
       "    </tr>\n",
       "    <tr>\n",
       "        <td>Bookshelf</td>\n",
       "        <td>1</td>\n",
       "    </tr>\n",
       "    <tr>\n",
       "        <td>Coffee Maker</td>\n",
       "        <td>1</td>\n",
       "    </tr>\n",
       "    <tr>\n",
       "        <td>Cookware Set</td>\n",
       "        <td>1</td>\n",
       "    </tr>\n",
       "    <tr>\n",
       "        <td>Dining Table</td>\n",
       "        <td>1</td>\n",
       "    </tr>\n",
       "    <tr>\n",
       "        <td>Dishwasher</td>\n",
       "        <td>1</td>\n",
       "    </tr>\n",
       "    <tr>\n",
       "        <td>Electric Kettle</td>\n",
       "        <td>1</td>\n",
       "    </tr>\n",
       "</table>"
      ],
      "text/plain": [
       "[('Air Conditioner', 1),\n",
       " ('Airpods', 1),\n",
       " ('Blender', 1),\n",
       " ('Bluetooth Headphones', 1),\n",
       " ('Bookshelf', 1),\n",
       " ('Coffee Maker', 1),\n",
       " ('Cookware Set', 1),\n",
       " ('Dining Table', 1),\n",
       " ('Dishwasher', 1),\n",
       " ('Electric Kettle', 1)]"
      ]
     },
     "execution_count": 13,
     "metadata": {},
     "output_type": "execute_result"
    }
   ],
   "source": [
    "%%sql\n",
    "SELECT p.product_name, od.quantity as quantity\n",
    "FROM products p\n",
    "JOIN orderdetails od ON od.product_id = p.product_id\n",
    "WHERE od.quantity = 1\n",
    "GROUP BY p.product_name\n",
    "LIMIT 10;"
   ]
  },
  {
   "cell_type": "markdown",
   "metadata": {},
   "source": [
    "### Cities with most sold products:\n",
    "#### ALERT! 'UNKNOWN' label might result in flawed analysis"
   ]
  },
  {
   "cell_type": "code",
   "execution_count": 14,
   "metadata": {},
   "outputs": [
    {
     "name": "stdout",
     "output_type": "stream",
     "text": [
      " * sqlite:///sales.db\n",
      "Done.\n"
     ]
    },
    {
     "data": {
      "text/html": [
       "<table>\n",
       "    <tr>\n",
       "        <th>city</th>\n",
       "        <th>order_count</th>\n",
       "    </tr>\n",
       "    <tr>\n",
       "        <td>Los Angeles</td>\n",
       "        <td>14</td>\n",
       "    </tr>\n",
       "    <tr>\n",
       "        <td>Virginia</td>\n",
       "        <td>11</td>\n",
       "    </tr>\n",
       "    <tr>\n",
       "        <td>Phoenix</td>\n",
       "        <td>9</td>\n",
       "    </tr>\n",
       "    <tr>\n",
       "        <td>Austin</td>\n",
       "        <td>8</td>\n",
       "    </tr>\n",
       "    <tr>\n",
       "        <td>Unknown</td>\n",
       "        <td>8</td>\n",
       "    </tr>\n",
       "    <tr>\n",
       "        <td>New York</td>\n",
       "        <td>6</td>\n",
       "    </tr>\n",
       "    <tr>\n",
       "        <td>Chicago</td>\n",
       "        <td>5</td>\n",
       "    </tr>\n",
       "</table>"
      ],
      "text/plain": [
       "[('Los Angeles', 14),\n",
       " ('Virginia', 11),\n",
       " ('Phoenix', 9),\n",
       " ('Austin', 8),\n",
       " ('Unknown', 8),\n",
       " ('New York', 6),\n",
       " ('Chicago', 5)]"
      ]
     },
     "execution_count": 14,
     "metadata": {},
     "output_type": "execute_result"
    }
   ],
   "source": [
    "%%sql\n",
    "SELECT \n",
    "  c.city, COUNT(o.order_id) AS order_count\n",
    "FROM Orders o\n",
    "JOIN Customers c ON o.customer_id = c.customer_id\n",
    "GROUP BY c.city\n",
    "ORDER BY order_count DESC\n",
    "LIMIT 7;"
   ]
  },
  {
   "cell_type": "markdown",
   "metadata": {},
   "source": [
    "### Customer in each city"
   ]
  },
  {
   "cell_type": "code",
   "execution_count": 15,
   "metadata": {},
   "outputs": [
    {
     "name": "stdout",
     "output_type": "stream",
     "text": [
      " * sqlite:///sales.db\n",
      "Done.\n"
     ]
    },
    {
     "data": {
      "text/html": [
       "<table>\n",
       "    <tr>\n",
       "        <th>city</th>\n",
       "        <th>customer_per_city</th>\n",
       "    </tr>\n",
       "    <tr>\n",
       "        <td>Los Angeles</td>\n",
       "        <td>5</td>\n",
       "    </tr>\n",
       "    <tr>\n",
       "        <td>Phoenix</td>\n",
       "        <td>4</td>\n",
       "    </tr>\n",
       "    <tr>\n",
       "        <td>Virginia</td>\n",
       "        <td>4</td>\n",
       "    </tr>\n",
       "    <tr>\n",
       "        <td>Austin</td>\n",
       "        <td>2</td>\n",
       "    </tr>\n",
       "    <tr>\n",
       "        <td>New York</td>\n",
       "        <td>2</td>\n",
       "    </tr>\n",
       "    <tr>\n",
       "        <td>San Jose</td>\n",
       "        <td>2</td>\n",
       "    </tr>\n",
       "    <tr>\n",
       "        <td>Unknown</td>\n",
       "        <td>2</td>\n",
       "    </tr>\n",
       "</table>"
      ],
      "text/plain": [
       "[('Los Angeles', 5),\n",
       " ('Phoenix', 4),\n",
       " ('Virginia', 4),\n",
       " ('Austin', 2),\n",
       " ('New York', 2),\n",
       " ('San Jose', 2),\n",
       " ('Unknown', 2)]"
      ]
     },
     "execution_count": 15,
     "metadata": {},
     "output_type": "execute_result"
    }
   ],
   "source": [
    "%%sql\n",
    "SELECT city, COUNT(*) as customer_per_city\n",
    "FROM customers\n",
    "GROUP BY city\n",
    "ORDER BY customer_per_city DESC\n",
    "LIMIT 7;"
   ]
  },
  {
   "cell_type": "markdown",
   "metadata": {},
   "source": [
    "### Total orders by each customer"
   ]
  },
  {
   "cell_type": "code",
   "execution_count": 16,
   "metadata": {},
   "outputs": [
    {
     "name": "stdout",
     "output_type": "stream",
     "text": [
      " * sqlite:///sales.db\n",
      "Done.\n"
     ]
    },
    {
     "data": {
      "text/html": [
       "<table>\n",
       "    <tr>\n",
       "        <th>customer_id</th>\n",
       "        <th>name</th>\n",
       "        <th>orders_by_customer</th>\n",
       "    </tr>\n",
       "    <tr>\n",
       "        <td>1</td>\n",
       "        <td>John Smith</td>\n",
       "        <td>5</td>\n",
       "    </tr>\n",
       "    <tr>\n",
       "        <td>2</td>\n",
       "        <td>Emma Johnson</td>\n",
       "        <td>5</td>\n",
       "    </tr>\n",
       "    <tr>\n",
       "        <td>3</td>\n",
       "        <td>Michael Brown</td>\n",
       "        <td>5</td>\n",
       "    </tr>\n",
       "    <tr>\n",
       "        <td>4</td>\n",
       "        <td>Olivia Davis</td>\n",
       "        <td>5</td>\n",
       "    </tr>\n",
       "    <tr>\n",
       "        <td>6</td>\n",
       "        <td>Sophia Martinez</td>\n",
       "        <td>5</td>\n",
       "    </tr>\n",
       "    <tr>\n",
       "        <td>8</td>\n",
       "        <td>Isabella Thomas</td>\n",
       "        <td>5</td>\n",
       "    </tr>\n",
       "    <tr>\n",
       "        <td>9</td>\n",
       "        <td>Benjamin Jackson</td>\n",
       "        <td>5</td>\n",
       "    </tr>\n",
       "</table>"
      ],
      "text/plain": [
       "[(1, 'John Smith', 5),\n",
       " (2, 'Emma Johnson', 5),\n",
       " (3, 'Michael Brown', 5),\n",
       " (4, 'Olivia Davis', 5),\n",
       " (6, 'Sophia Martinez', 5),\n",
       " (8, 'Isabella Thomas', 5),\n",
       " (9, 'Benjamin Jackson', 5)]"
      ]
     },
     "execution_count": 16,
     "metadata": {},
     "output_type": "execute_result"
    }
   ],
   "source": [
    "%%sql\n",
    "SELECT c.customer_id, c.name, COUNT(*) AS orders_by_customer\n",
    "FROM orders o\n",
    "JOIN customers c ON c.customer_id = o.customer_id\n",
    "GROUP BY c.customer_id\n",
    "ORDER BY orders_by_customer DESC\n",
    "LIMIT 7;"
   ]
  },
  {
   "cell_type": "markdown",
   "metadata": {},
   "source": [
    "### Total items bought by each customer"
   ]
  },
  {
   "cell_type": "code",
   "execution_count": 17,
   "metadata": {},
   "outputs": [
    {
     "name": "stdout",
     "output_type": "stream",
     "text": [
      " * sqlite:///sales.db\n",
      "Done.\n"
     ]
    },
    {
     "data": {
      "text/html": [
       "<table>\n",
       "    <tr>\n",
       "        <th>customer_id</th>\n",
       "        <th>name</th>\n",
       "        <th>total_items_bought</th>\n",
       "    </tr>\n",
       "    <tr>\n",
       "        <td>2</td>\n",
       "        <td>Emma Johnson</td>\n",
       "        <td>7</td>\n",
       "    </tr>\n",
       "    <tr>\n",
       "        <td>18</td>\n",
       "        <td>Evelyn Rodriguez</td>\n",
       "        <td>7</td>\n",
       "    </tr>\n",
       "    <tr>\n",
       "        <td>8</td>\n",
       "        <td>Isabella Thomas</td>\n",
       "        <td>7</td>\n",
       "    </tr>\n",
       "    <tr>\n",
       "        <td>1</td>\n",
       "        <td>John Smith</td>\n",
       "        <td>7</td>\n",
       "    </tr>\n",
       "    <tr>\n",
       "        <td>3</td>\n",
       "        <td>Michael Brown</td>\n",
       "        <td>7</td>\n",
       "    </tr>\n",
       "    <tr>\n",
       "        <td>31</td>\n",
       "        <td>Elena Gilbert</td>\n",
       "        <td>6</td>\n",
       "    </tr>\n",
       "    <tr>\n",
       "        <td>22</td>\n",
       "        <td>James Potter</td>\n",
       "        <td>6</td>\n",
       "    </tr>\n",
       "</table>"
      ],
      "text/plain": [
       "[(2, 'Emma Johnson', 7),\n",
       " (18, 'Evelyn Rodriguez', 7),\n",
       " (8, 'Isabella Thomas', 7),\n",
       " (1, 'John Smith', 7),\n",
       " (3, 'Michael Brown', 7),\n",
       " (31, 'Elena Gilbert', 6),\n",
       " (22, 'James Potter', 6)]"
      ]
     },
     "execution_count": 17,
     "metadata": {},
     "output_type": "execute_result"
    }
   ],
   "source": [
    "%%sql\n",
    "SELECT c.customer_id, c.name, COUNT(od.product_id) AS total_items_bought\n",
    "FROM customers c\n",
    "JOIN orders o ON c.customer_id = o.customer_id\n",
    "JOIN orderdetails od ON od.order_id = o.order_id\n",
    "GROUP BY c.name, c.customer_id\n",
    "ORDER BY total_items_bought DESC\n",
    "LIMIT 7;"
   ]
  },
  {
   "cell_type": "markdown",
   "metadata": {},
   "source": [
    "### Total items bought by each customer (quantity included)"
   ]
  },
  {
   "cell_type": "code",
   "execution_count": 18,
   "metadata": {},
   "outputs": [
    {
     "name": "stdout",
     "output_type": "stream",
     "text": [
      " * sqlite:///sales.db\n",
      "Done.\n"
     ]
    },
    {
     "data": {
      "text/html": [
       "<table>\n",
       "    <tr>\n",
       "        <th>customer_id</th>\n",
       "        <th>name</th>\n",
       "        <th>total_items_bought</th>\n",
       "    </tr>\n",
       "    <tr>\n",
       "        <td>29</td>\n",
       "        <td>Stephen Salvatore</td>\n",
       "        <td>16</td>\n",
       "    </tr>\n",
       "    <tr>\n",
       "        <td>18</td>\n",
       "        <td>Evelyn Rodriguez</td>\n",
       "        <td>14</td>\n",
       "    </tr>\n",
       "    <tr>\n",
       "        <td>3</td>\n",
       "        <td>Michael Brown</td>\n",
       "        <td>14</td>\n",
       "    </tr>\n",
       "    <tr>\n",
       "        <td>34</td>\n",
       "        <td>Adam Adams</td>\n",
       "        <td>13</td>\n",
       "    </tr>\n",
       "    <tr>\n",
       "        <td>12</td>\n",
       "        <td>Charlotte Martin</td>\n",
       "        <td>13</td>\n",
       "    </tr>\n",
       "    <tr>\n",
       "        <td>11</td>\n",
       "        <td>Elijah Harris</td>\n",
       "        <td>13</td>\n",
       "    </tr>\n",
       "    <tr>\n",
       "        <td>8</td>\n",
       "        <td>Isabella Thomas</td>\n",
       "        <td>12</td>\n",
       "    </tr>\n",
       "</table>"
      ],
      "text/plain": [
       "[(29, 'Stephen Salvatore', 16),\n",
       " (18, 'Evelyn Rodriguez', 14),\n",
       " (3, 'Michael Brown', 14),\n",
       " (34, 'Adam Adams', 13),\n",
       " (12, 'Charlotte Martin', 13),\n",
       " (11, 'Elijah Harris', 13),\n",
       " (8, 'Isabella Thomas', 12)]"
      ]
     },
     "execution_count": 18,
     "metadata": {},
     "output_type": "execute_result"
    }
   ],
   "source": [
    "%%sql\n",
    "SELECT c.customer_id, c.name, SUM(od.quantity) AS total_items_bought\n",
    "FROM customers c\n",
    "JOIN orders o ON c.customer_id = o.customer_id\n",
    "JOIN orderdetails od ON od.order_id = o.order_id\n",
    "GROUP BY c.name, c.customer_id\n",
    "ORDER BY total_items_bought DESC\n",
    "LIMIT 7;"
   ]
  },
  {
   "cell_type": "markdown",
   "metadata": {},
   "source": [
    "### Total money spent by each customer"
   ]
  },
  {
   "cell_type": "code",
   "execution_count": 19,
   "metadata": {},
   "outputs": [
    {
     "name": "stdout",
     "output_type": "stream",
     "text": [
      " * sqlite:///sales.db\n",
      "Done.\n"
     ]
    },
    {
     "data": {
      "text/html": [
       "<table>\n",
       "    <tr>\n",
       "        <th>customer_id</th>\n",
       "        <th>name</th>\n",
       "        <th>total_spent</th>\n",
       "    </tr>\n",
       "    <tr>\n",
       "        <td>1</td>\n",
       "        <td>John Smith</td>\n",
       "        <td>4540.0</td>\n",
       "    </tr>\n",
       "    <tr>\n",
       "        <td>11</td>\n",
       "        <td>Elijah Harris</td>\n",
       "        <td>4520.0</td>\n",
       "    </tr>\n",
       "    <tr>\n",
       "        <td>8</td>\n",
       "        <td>Isabella Thomas</td>\n",
       "        <td>4445.0</td>\n",
       "    </tr>\n",
       "    <tr>\n",
       "        <td>18</td>\n",
       "        <td>Evelyn Rodriguez</td>\n",
       "        <td>4270.0</td>\n",
       "    </tr>\n",
       "    <tr>\n",
       "        <td>34</td>\n",
       "        <td>Adam Adams</td>\n",
       "        <td>3720.0</td>\n",
       "    </tr>\n",
       "    <tr>\n",
       "        <td>4</td>\n",
       "        <td>Olivia Davis</td>\n",
       "        <td>3275.0</td>\n",
       "    </tr>\n",
       "    <tr>\n",
       "        <td>12</td>\n",
       "        <td>Charlotte Martin</td>\n",
       "        <td>3140.0</td>\n",
       "    </tr>\n",
       "</table>"
      ],
      "text/plain": [
       "[(1, 'John Smith', 4540.0),\n",
       " (11, 'Elijah Harris', 4520.0),\n",
       " (8, 'Isabella Thomas', 4445.0),\n",
       " (18, 'Evelyn Rodriguez', 4270.0),\n",
       " (34, 'Adam Adams', 3720.0),\n",
       " (4, 'Olivia Davis', 3275.0),\n",
       " (12, 'Charlotte Martin', 3140.0)]"
      ]
     },
     "execution_count": 19,
     "metadata": {},
     "output_type": "execute_result"
    }
   ],
   "source": [
    "%%sql\n",
    "SELECT c.customer_id, c.name, SUM(od.quantity * p.price) AS total_spent\n",
    "FROM customers c\n",
    "JOIN orders o ON c.customer_id = o.customer_id\n",
    "JOIN orderdetails od ON od.order_id = o.order_id\n",
    "JOIN products p ON od.product_id = p.product_id\n",
    "GROUP BY c.name, c.customer_id\n",
    "ORDER BY total_spent DESC\n",
    "LIMIT 7;"
   ]
  },
  {
   "cell_type": "markdown",
   "metadata": {},
   "source": [
    "### Total money spent from each city"
   ]
  },
  {
   "cell_type": "code",
   "execution_count": 20,
   "metadata": {},
   "outputs": [
    {
     "name": "stdout",
     "output_type": "stream",
     "text": [
      " * sqlite:///sales.db\n",
      "Done.\n"
     ]
    },
    {
     "data": {
      "text/html": [
       "<table>\n",
       "    <tr>\n",
       "        <th>city</th>\n",
       "        <th>total_spent</th>\n",
       "    </tr>\n",
       "    <tr>\n",
       "        <td>Los Angeles</td>\n",
       "        <td>10574.0</td>\n",
       "    </tr>\n",
       "    <tr>\n",
       "        <td>Virginia</td>\n",
       "        <td>9235.0</td>\n",
       "    </tr>\n",
       "    <tr>\n",
       "        <td>Phoenix</td>\n",
       "        <td>7170.0</td>\n",
       "    </tr>\n",
       "    <tr>\n",
       "        <td>San Jose</td>\n",
       "        <td>5970.0</td>\n",
       "    </tr>\n",
       "    <tr>\n",
       "        <td>Austin</td>\n",
       "        <td>5240.0</td>\n",
       "    </tr>\n",
       "    <tr>\n",
       "        <td>New York</td>\n",
       "        <td>5040.0</td>\n",
       "    </tr>\n",
       "    <tr>\n",
       "        <td>San Antonio</td>\n",
       "        <td>4445.0</td>\n",
       "    </tr>\n",
       "</table>"
      ],
      "text/plain": [
       "[('Los Angeles', 10574.0),\n",
       " ('Virginia', 9235.0),\n",
       " ('Phoenix', 7170.0),\n",
       " ('San Jose', 5970.0),\n",
       " ('Austin', 5240.0),\n",
       " ('New York', 5040.0),\n",
       " ('San Antonio', 4445.0)]"
      ]
     },
     "execution_count": 20,
     "metadata": {},
     "output_type": "execute_result"
    }
   ],
   "source": [
    "%%sql\n",
    "SELECT c.city, SUM(od.quantity * p.price) AS total_spent\n",
    "FROM customers c\n",
    "JOIN orders o ON c.customer_id = o.customer_id\n",
    "JOIN orderdetails od ON od.order_id = o.order_id\n",
    "JOIN products p ON od.product_id = p.product_id\n",
    "GROUP BY c.city\n",
    "ORDER BY total_spent DESC\n",
    "LIMIT 7;"
   ]
  },
  {
   "cell_type": "markdown",
   "metadata": {},
   "source": [
    "### Active months for each customer"
   ]
  },
  {
   "cell_type": "code",
   "execution_count": 21,
   "metadata": {},
   "outputs": [
    {
     "name": "stdout",
     "output_type": "stream",
     "text": [
      " * sqlite:///sales.db\n",
      "Done.\n"
     ]
    },
    {
     "data": {
      "text/html": [
       "<table>\n",
       "    <tr>\n",
       "        <th>customer_id</th>\n",
       "        <th>name</th>\n",
       "        <th>months_active</th>\n",
       "    </tr>\n",
       "    <tr>\n",
       "        <td>2</td>\n",
       "        <td>Emma Johnson</td>\n",
       "        <td>5</td>\n",
       "    </tr>\n",
       "    <tr>\n",
       "        <td>14</td>\n",
       "        <td>Amelia Garcia</td>\n",
       "        <td>4</td>\n",
       "    </tr>\n",
       "    <tr>\n",
       "        <td>9</td>\n",
       "        <td>Benjamin Jackson</td>\n",
       "        <td>4</td>\n",
       "    </tr>\n",
       "    <tr>\n",
       "        <td>12</td>\n",
       "        <td>Charlotte Martin</td>\n",
       "        <td>4</td>\n",
       "    </tr>\n",
       "    <tr>\n",
       "        <td>1</td>\n",
       "        <td>John Smith</td>\n",
       "        <td>4</td>\n",
       "    </tr>\n",
       "    <tr>\n",
       "        <td>10</td>\n",
       "        <td>Mia White</td>\n",
       "        <td>4</td>\n",
       "    </tr>\n",
       "    <tr>\n",
       "        <td>3</td>\n",
       "        <td>Michael Brown</td>\n",
       "        <td>4</td>\n",
       "    </tr>\n",
       "    <tr>\n",
       "        <td>6</td>\n",
       "        <td>Sophia Martinez</td>\n",
       "        <td>4</td>\n",
       "    </tr>\n",
       "    <tr>\n",
       "        <td>30</td>\n",
       "        <td>Damon Salvatore</td>\n",
       "        <td>3</td>\n",
       "    </tr>\n",
       "    <tr>\n",
       "        <td>15</td>\n",
       "        <td>Daniel Martinez</td>\n",
       "        <td>3</td>\n",
       "    </tr>\n",
       "</table>"
      ],
      "text/plain": [
       "[(2, 'Emma Johnson', 5),\n",
       " (14, 'Amelia Garcia', 4),\n",
       " (9, 'Benjamin Jackson', 4),\n",
       " (12, 'Charlotte Martin', 4),\n",
       " (1, 'John Smith', 4),\n",
       " (10, 'Mia White', 4),\n",
       " (3, 'Michael Brown', 4),\n",
       " (6, 'Sophia Martinez', 4),\n",
       " (30, 'Damon Salvatore', 3),\n",
       " (15, 'Daniel Martinez', 3)]"
      ]
     },
     "execution_count": 21,
     "metadata": {},
     "output_type": "execute_result"
    }
   ],
   "source": [
    "%%sql\n",
    "SELECT c.customer_id, c.name, COUNT(DISTINCT STRFTIME('%Y-%m', o.order_date)) as months_active\n",
    "FROM customers c\n",
    "JOIN orders o ON c.customer_id = o.customer_id\n",
    "GROUP BY c.name, c.customer_id\n",
    "ORDER BY months_active DESC\n",
    "LIMIT 10;"
   ]
  },
  {
   "cell_type": "markdown",
   "metadata": {},
   "source": [
    "### Total revenue for each month"
   ]
  },
  {
   "cell_type": "markdown",
   "metadata": {},
   "source": [
    "#### order by month"
   ]
  },
  {
   "cell_type": "code",
   "execution_count": 22,
   "metadata": {},
   "outputs": [
    {
     "name": "stdout",
     "output_type": "stream",
     "text": [
      " * sqlite:///sales.db\n",
      "Done.\n"
     ]
    },
    {
     "data": {
      "text/html": [
       "<table>\n",
       "    <tr>\n",
       "        <th>month</th>\n",
       "        <th>total_revenue</th>\n",
       "    </tr>\n",
       "    <tr>\n",
       "        <td>2024-01</td>\n",
       "        <td>6950.0</td>\n",
       "    </tr>\n",
       "    <tr>\n",
       "        <td>2024-02</td>\n",
       "        <td>7695.0</td>\n",
       "    </tr>\n",
       "    <tr>\n",
       "        <td>2024-03</td>\n",
       "        <td>10689.0</td>\n",
       "    </tr>\n",
       "    <tr>\n",
       "        <td>2024-04</td>\n",
       "        <td>9938.0</td>\n",
       "    </tr>\n",
       "    <tr>\n",
       "        <td>2024-05</td>\n",
       "        <td>12089.0</td>\n",
       "    </tr>\n",
       "    <tr>\n",
       "        <td>2024-06</td>\n",
       "        <td>7160.0</td>\n",
       "    </tr>\n",
       "    <tr>\n",
       "        <td>2024-07</td>\n",
       "        <td>3540.0</td>\n",
       "    </tr>\n",
       "    <tr>\n",
       "        <td>2024-08</td>\n",
       "        <td>4905.0</td>\n",
       "    </tr>\n",
       "    <tr>\n",
       "        <td>2024-09</td>\n",
       "        <td>3695.0</td>\n",
       "    </tr>\n",
       "    <tr>\n",
       "        <td>2024-10</td>\n",
       "        <td>1780.0</td>\n",
       "    </tr>\n",
       "    <tr>\n",
       "        <td>2024-11</td>\n",
       "        <td>4650.0</td>\n",
       "    </tr>\n",
       "    <tr>\n",
       "        <td>2024-12</td>\n",
       "        <td>1695.0</td>\n",
       "    </tr>\n",
       "</table>"
      ],
      "text/plain": [
       "[('2024-01', 6950.0),\n",
       " ('2024-02', 7695.0),\n",
       " ('2024-03', 10689.0),\n",
       " ('2024-04', 9938.0),\n",
       " ('2024-05', 12089.0),\n",
       " ('2024-06', 7160.0),\n",
       " ('2024-07', 3540.0),\n",
       " ('2024-08', 4905.0),\n",
       " ('2024-09', 3695.0),\n",
       " ('2024-10', 1780.0),\n",
       " ('2024-11', 4650.0),\n",
       " ('2024-12', 1695.0)]"
      ]
     },
     "execution_count": 22,
     "metadata": {},
     "output_type": "execute_result"
    }
   ],
   "source": [
    "%%sql\n",
    "SELECT STRFTIME('%Y-%m', o.order_date) AS month, SUM(od.quantity * p.price) as total_revenue\n",
    "FROM orders o\n",
    "JOIN orderdetails od ON od.order_id = o.order_id\n",
    "JOIN products p ON od.product_id = p.product_id\n",
    "GROUP BY month\n",
    "ORDER BY month;"
   ]
  },
  {
   "cell_type": "markdown",
   "metadata": {},
   "source": [
    "#### order by total revenue"
   ]
  },
  {
   "cell_type": "code",
   "execution_count": 23,
   "metadata": {},
   "outputs": [
    {
     "name": "stdout",
     "output_type": "stream",
     "text": [
      " * sqlite:///sales.db\n",
      "Done.\n"
     ]
    },
    {
     "data": {
      "text/html": [
       "<table>\n",
       "    <tr>\n",
       "        <th>month</th>\n",
       "        <th>total_revenue</th>\n",
       "    </tr>\n",
       "    <tr>\n",
       "        <td>2024-05</td>\n",
       "        <td>12089.0</td>\n",
       "    </tr>\n",
       "    <tr>\n",
       "        <td>2024-03</td>\n",
       "        <td>10689.0</td>\n",
       "    </tr>\n",
       "    <tr>\n",
       "        <td>2024-04</td>\n",
       "        <td>9938.0</td>\n",
       "    </tr>\n",
       "    <tr>\n",
       "        <td>2024-02</td>\n",
       "        <td>7695.0</td>\n",
       "    </tr>\n",
       "    <tr>\n",
       "        <td>2024-06</td>\n",
       "        <td>7160.0</td>\n",
       "    </tr>\n",
       "    <tr>\n",
       "        <td>2024-01</td>\n",
       "        <td>6950.0</td>\n",
       "    </tr>\n",
       "    <tr>\n",
       "        <td>2024-08</td>\n",
       "        <td>4905.0</td>\n",
       "    </tr>\n",
       "    <tr>\n",
       "        <td>2024-11</td>\n",
       "        <td>4650.0</td>\n",
       "    </tr>\n",
       "    <tr>\n",
       "        <td>2024-09</td>\n",
       "        <td>3695.0</td>\n",
       "    </tr>\n",
       "    <tr>\n",
       "        <td>2024-07</td>\n",
       "        <td>3540.0</td>\n",
       "    </tr>\n",
       "    <tr>\n",
       "        <td>2024-10</td>\n",
       "        <td>1780.0</td>\n",
       "    </tr>\n",
       "    <tr>\n",
       "        <td>2024-12</td>\n",
       "        <td>1695.0</td>\n",
       "    </tr>\n",
       "</table>"
      ],
      "text/plain": [
       "[('2024-05', 12089.0),\n",
       " ('2024-03', 10689.0),\n",
       " ('2024-04', 9938.0),\n",
       " ('2024-02', 7695.0),\n",
       " ('2024-06', 7160.0),\n",
       " ('2024-01', 6950.0),\n",
       " ('2024-08', 4905.0),\n",
       " ('2024-11', 4650.0),\n",
       " ('2024-09', 3695.0),\n",
       " ('2024-07', 3540.0),\n",
       " ('2024-10', 1780.0),\n",
       " ('2024-12', 1695.0)]"
      ]
     },
     "execution_count": 23,
     "metadata": {},
     "output_type": "execute_result"
    }
   ],
   "source": [
    "%%sql\n",
    "SELECT STRFTIME('%Y-%m', o.order_date) AS month, SUM(od.quantity * p.price) as total_revenue\n",
    "FROM orders o\n",
    "JOIN orderdetails od ON od.order_id = o.order_id\n",
    "JOIN products p ON od.product_id = p.product_id\n",
    "GROUP BY month\n",
    "ORDER BY total_revenue DESC;"
   ]
  },
  {
   "cell_type": "markdown",
   "metadata": {},
   "source": [
    "### Total items sold in each month"
   ]
  },
  {
   "cell_type": "markdown",
   "metadata": {},
   "source": [
    "#### order by month"
   ]
  },
  {
   "cell_type": "code",
   "execution_count": 24,
   "metadata": {},
   "outputs": [
    {
     "name": "stdout",
     "output_type": "stream",
     "text": [
      " * sqlite:///sales.db\n",
      "Done.\n"
     ]
    },
    {
     "data": {
      "text/html": [
       "<table>\n",
       "    <tr>\n",
       "        <th>month</th>\n",
       "        <th>total_items</th>\n",
       "    </tr>\n",
       "    <tr>\n",
       "        <td>2024-01</td>\n",
       "        <td>20</td>\n",
       "    </tr>\n",
       "    <tr>\n",
       "        <td>2024-02</td>\n",
       "        <td>26</td>\n",
       "    </tr>\n",
       "    <tr>\n",
       "        <td>2024-03</td>\n",
       "        <td>28</td>\n",
       "    </tr>\n",
       "    <tr>\n",
       "        <td>2024-04</td>\n",
       "        <td>33</td>\n",
       "    </tr>\n",
       "    <tr>\n",
       "        <td>2024-05</td>\n",
       "        <td>45</td>\n",
       "    </tr>\n",
       "    <tr>\n",
       "        <td>2024-06</td>\n",
       "        <td>35</td>\n",
       "    </tr>\n",
       "    <tr>\n",
       "        <td>2024-07</td>\n",
       "        <td>11</td>\n",
       "    </tr>\n",
       "    <tr>\n",
       "        <td>2024-08</td>\n",
       "        <td>19</td>\n",
       "    </tr>\n",
       "    <tr>\n",
       "        <td>2024-09</td>\n",
       "        <td>10</td>\n",
       "    </tr>\n",
       "    <tr>\n",
       "        <td>2024-10</td>\n",
       "        <td>9</td>\n",
       "    </tr>\n",
       "    <tr>\n",
       "        <td>2024-11</td>\n",
       "        <td>9</td>\n",
       "    </tr>\n",
       "    <tr>\n",
       "        <td>2024-12</td>\n",
       "        <td>15</td>\n",
       "    </tr>\n",
       "</table>"
      ],
      "text/plain": [
       "[('2024-01', 20),\n",
       " ('2024-02', 26),\n",
       " ('2024-03', 28),\n",
       " ('2024-04', 33),\n",
       " ('2024-05', 45),\n",
       " ('2024-06', 35),\n",
       " ('2024-07', 11),\n",
       " ('2024-08', 19),\n",
       " ('2024-09', 10),\n",
       " ('2024-10', 9),\n",
       " ('2024-11', 9),\n",
       " ('2024-12', 15)]"
      ]
     },
     "execution_count": 24,
     "metadata": {},
     "output_type": "execute_result"
    }
   ],
   "source": [
    "%%sql\n",
    "SELECT STRFTIME('%Y-%m', o.order_date) AS month, SUM(od.quantity) as total_items\n",
    "FROM orders o\n",
    "JOIN orderdetails od ON od.order_id = o.order_id\n",
    "JOIN products p ON od.product_id = p.product_id\n",
    "GROUP BY month\n",
    "ORDER BY month;"
   ]
  },
  {
   "cell_type": "markdown",
   "metadata": {},
   "source": [
    "#### order by total items"
   ]
  },
  {
   "cell_type": "code",
   "execution_count": 25,
   "metadata": {},
   "outputs": [
    {
     "name": "stdout",
     "output_type": "stream",
     "text": [
      " * sqlite:///sales.db\n",
      "Done.\n"
     ]
    },
    {
     "data": {
      "text/html": [
       "<table>\n",
       "    <tr>\n",
       "        <th>month</th>\n",
       "        <th>total_items</th>\n",
       "    </tr>\n",
       "    <tr>\n",
       "        <td>2024-05</td>\n",
       "        <td>45</td>\n",
       "    </tr>\n",
       "    <tr>\n",
       "        <td>2024-06</td>\n",
       "        <td>35</td>\n",
       "    </tr>\n",
       "    <tr>\n",
       "        <td>2024-04</td>\n",
       "        <td>33</td>\n",
       "    </tr>\n",
       "    <tr>\n",
       "        <td>2024-03</td>\n",
       "        <td>28</td>\n",
       "    </tr>\n",
       "    <tr>\n",
       "        <td>2024-02</td>\n",
       "        <td>26</td>\n",
       "    </tr>\n",
       "    <tr>\n",
       "        <td>2024-01</td>\n",
       "        <td>20</td>\n",
       "    </tr>\n",
       "    <tr>\n",
       "        <td>2024-08</td>\n",
       "        <td>19</td>\n",
       "    </tr>\n",
       "    <tr>\n",
       "        <td>2024-12</td>\n",
       "        <td>15</td>\n",
       "    </tr>\n",
       "    <tr>\n",
       "        <td>2024-07</td>\n",
       "        <td>11</td>\n",
       "    </tr>\n",
       "    <tr>\n",
       "        <td>2024-09</td>\n",
       "        <td>10</td>\n",
       "    </tr>\n",
       "    <tr>\n",
       "        <td>2024-10</td>\n",
       "        <td>9</td>\n",
       "    </tr>\n",
       "    <tr>\n",
       "        <td>2024-11</td>\n",
       "        <td>9</td>\n",
       "    </tr>\n",
       "</table>"
      ],
      "text/plain": [
       "[('2024-05', 45),\n",
       " ('2024-06', 35),\n",
       " ('2024-04', 33),\n",
       " ('2024-03', 28),\n",
       " ('2024-02', 26),\n",
       " ('2024-01', 20),\n",
       " ('2024-08', 19),\n",
       " ('2024-12', 15),\n",
       " ('2024-07', 11),\n",
       " ('2024-09', 10),\n",
       " ('2024-10', 9),\n",
       " ('2024-11', 9)]"
      ]
     },
     "execution_count": 25,
     "metadata": {},
     "output_type": "execute_result"
    }
   ],
   "source": [
    "%%sql\n",
    "SELECT STRFTIME('%Y-%m', o.order_date) AS month, SUM(od.quantity) as total_items\n",
    "FROM orders o\n",
    "JOIN orderdetails od ON od.order_id = o.order_id\n",
    "JOIN products p ON od.product_id = p.product_id\n",
    "GROUP BY month\n",
    "ORDER BY total_items DESC;"
   ]
  },
  {
   "cell_type": "markdown",
   "metadata": {},
   "source": [
    "### Total distinctive products in each order"
   ]
  },
  {
   "cell_type": "code",
   "execution_count": 26,
   "metadata": {},
   "outputs": [
    {
     "name": "stdout",
     "output_type": "stream",
     "text": [
      " * sqlite:///sales.db\n",
      "Done.\n"
     ]
    },
    {
     "data": {
      "text/html": [
       "<table>\n",
       "    <tr>\n",
       "        <th>order_id</th>\n",
       "        <th>total_distinct_items</th>\n",
       "    </tr>\n",
       "    <tr>\n",
       "        <td>104</td>\n",
       "        <td>5</td>\n",
       "    </tr>\n",
       "    <tr>\n",
       "        <td>124</td>\n",
       "        <td>5</td>\n",
       "    </tr>\n",
       "    <tr>\n",
       "        <td>98</td>\n",
       "        <td>4</td>\n",
       "    </tr>\n",
       "    <tr>\n",
       "        <td>109</td>\n",
       "        <td>4</td>\n",
       "    </tr>\n",
       "    <tr>\n",
       "        <td>115</td>\n",
       "        <td>4</td>\n",
       "    </tr>\n",
       "    <tr>\n",
       "        <td>88</td>\n",
       "        <td>3</td>\n",
       "    </tr>\n",
       "    <tr>\n",
       "        <td>1</td>\n",
       "        <td>2</td>\n",
       "    </tr>\n",
       "    <tr>\n",
       "        <td>2</td>\n",
       "        <td>2</td>\n",
       "    </tr>\n",
       "    <tr>\n",
       "        <td>3</td>\n",
       "        <td>2</td>\n",
       "    </tr>\n",
       "    <tr>\n",
       "        <td>21</td>\n",
       "        <td>2</td>\n",
       "    </tr>\n",
       "</table>"
      ],
      "text/plain": [
       "[(104, 5),\n",
       " (124, 5),\n",
       " (98, 4),\n",
       " (109, 4),\n",
       " (115, 4),\n",
       " (88, 3),\n",
       " (1, 2),\n",
       " (2, 2),\n",
       " (3, 2),\n",
       " (21, 2)]"
      ]
     },
     "execution_count": 26,
     "metadata": {},
     "output_type": "execute_result"
    }
   ],
   "source": [
    "%%sql\n",
    "SELECT o.order_id, COUNT(DISTINCT od.product_id) as total_distinct_items\n",
    "FROM orders o\n",
    "JOIN orderdetails od ON od.order_id = o.order_id\n",
    "GROUP BY o.order_id\n",
    "ORDER BY total_distinct_items DESC\n",
    "LIMIT 10;"
   ]
  },
  {
   "cell_type": "markdown",
   "metadata": {},
   "source": [
    "### Most sold caregories (total)"
   ]
  },
  {
   "cell_type": "code",
   "execution_count": 27,
   "metadata": {},
   "outputs": [
    {
     "name": "stdout",
     "output_type": "stream",
     "text": [
      " * sqlite:///sales.db\n",
      "Done.\n"
     ]
    },
    {
     "data": {
      "text/html": [
       "<table>\n",
       "    <tr>\n",
       "        <th>category</th>\n",
       "        <th>total_category</th>\n",
       "    </tr>\n",
       "    <tr>\n",
       "        <td>Electronics</td>\n",
       "        <td>85</td>\n",
       "    </tr>\n",
       "    <tr>\n",
       "        <td>Appliances</td>\n",
       "        <td>83</td>\n",
       "    </tr>\n",
       "    <tr>\n",
       "        <td>Sports</td>\n",
       "        <td>40</td>\n",
       "    </tr>\n",
       "    <tr>\n",
       "        <td>Furniture</td>\n",
       "        <td>35</td>\n",
       "    </tr>\n",
       "    <tr>\n",
       "        <td>Kitchen</td>\n",
       "        <td>34</td>\n",
       "    </tr>\n",
       "</table>"
      ],
      "text/plain": [
       "[('Electronics', 85),\n",
       " ('Appliances', 83),\n",
       " ('Sports', 40),\n",
       " ('Furniture', 35),\n",
       " ('Kitchen', 34)]"
      ]
     },
     "execution_count": 27,
     "metadata": {},
     "output_type": "execute_result"
    }
   ],
   "source": [
    "%%sql\n",
    "SELECT p.category, SUM (od.quantity) AS total_category\n",
    "FROM products p\n",
    "JOIN orderdetails od ON od.product_id = p.product_id\n",
    "GROUP BY p.category\n",
    "ORDER BY total_category DESC"
   ]
  },
  {
   "cell_type": "markdown",
   "metadata": {},
   "source": [
    "### Most sold categories (revenue)"
   ]
  },
  {
   "cell_type": "code",
   "execution_count": 28,
   "metadata": {},
   "outputs": [
    {
     "name": "stdout",
     "output_type": "stream",
     "text": [
      " * sqlite:///sales.db\n",
      "Done.\n"
     ]
    },
    {
     "data": {
      "text/html": [
       "<table>\n",
       "    <tr>\n",
       "        <th>category</th>\n",
       "        <th>total_category_revenue</th>\n",
       "    </tr>\n",
       "    <tr>\n",
       "        <td>Electronics</td>\n",
       "        <td>34181.0</td>\n",
       "    </tr>\n",
       "    <tr>\n",
       "        <td>Appliances</td>\n",
       "        <td>21950.0</td>\n",
       "    </tr>\n",
       "    <tr>\n",
       "        <td>Furniture</td>\n",
       "        <td>9630.0</td>\n",
       "    </tr>\n",
       "    <tr>\n",
       "        <td>Sports</td>\n",
       "        <td>7110.0</td>\n",
       "    </tr>\n",
       "    <tr>\n",
       "        <td>Kitchen</td>\n",
       "        <td>2830.0</td>\n",
       "    </tr>\n",
       "</table>"
      ],
      "text/plain": [
       "[('Electronics', 34181.0),\n",
       " ('Appliances', 21950.0),\n",
       " ('Furniture', 9630.0),\n",
       " ('Sports', 7110.0),\n",
       " ('Kitchen', 2830.0)]"
      ]
     },
     "execution_count": 28,
     "metadata": {},
     "output_type": "execute_result"
    }
   ],
   "source": [
    "%%sql\n",
    "SELECT p.category, SUM (od.quantity * p.price) AS total_category_revenue\n",
    "FROM products p\n",
    "JOIN orderdetails od ON od.product_id = p.product_id\n",
    "GROUP BY p.category\n",
    "ORDER BY total_category_revenue DESC"
   ]
  },
  {
   "cell_type": "markdown",
   "metadata": {},
   "source": [
    "### Categories most expensive products"
   ]
  },
  {
   "cell_type": "code",
   "execution_count": 29,
   "metadata": {},
   "outputs": [
    {
     "name": "stdout",
     "output_type": "stream",
     "text": [
      " * sqlite:///sales.db\n",
      "Done.\n"
     ]
    },
    {
     "data": {
      "text/html": [
       "<table>\n",
       "    <tr>\n",
       "        <th>category</th>\n",
       "        <th>product_name</th>\n",
       "        <th>MAX_price</th>\n",
       "    </tr>\n",
       "    <tr>\n",
       "        <td>Electronics</td>\n",
       "        <td>Laptop Dell XPS</td>\n",
       "        <td>1200.0</td>\n",
       "    </tr>\n",
       "    <tr>\n",
       "        <td>Sports</td>\n",
       "        <td>Mountain Bike</td>\n",
       "        <td>700.0</td>\n",
       "    </tr>\n",
       "    <tr>\n",
       "        <td>Furniture</td>\n",
       "        <td>Dining Table</td>\n",
       "        <td>600.0</td>\n",
       "    </tr>\n",
       "    <tr>\n",
       "        <td>Appliances</td>\n",
       "        <td>Dishwasher</td>\n",
       "        <td>550.0</td>\n",
       "    </tr>\n",
       "    <tr>\n",
       "        <td>Kitchen</td>\n",
       "        <td>Cookware Set</td>\n",
       "        <td>150.0</td>\n",
       "    </tr>\n",
       "</table>"
      ],
      "text/plain": [
       "[('Electronics', 'Laptop Dell XPS', 1200.0),\n",
       " ('Sports', 'Mountain Bike', 700.0),\n",
       " ('Furniture', 'Dining Table', 600.0),\n",
       " ('Appliances', 'Dishwasher', 550.0),\n",
       " ('Kitchen', 'Cookware Set', 150.0)]"
      ]
     },
     "execution_count": 29,
     "metadata": {},
     "output_type": "execute_result"
    }
   ],
   "source": [
    "%%sql\n",
    "SELECT category, product_name, MAX(price) as MAX_price\n",
    "FROM products\n",
    "GROUP BY category\n",
    "ORDER BY MAX_price DESC"
   ]
  },
  {
   "cell_type": "markdown",
   "metadata": {},
   "source": [
    "### Categories average price"
   ]
  },
  {
   "cell_type": "code",
   "execution_count": 30,
   "metadata": {},
   "outputs": [
    {
     "name": "stdout",
     "output_type": "stream",
     "text": [
      " * sqlite:///sales.db\n",
      "Done.\n"
     ]
    },
    {
     "data": {
      "text/html": [
       "<table>\n",
       "    <tr>\n",
       "        <th>category</th>\n",
       "        <th>AVG_price</th>\n",
       "    </tr>\n",
       "    <tr>\n",
       "        <td>Electronics</td>\n",
       "        <td>415.3636363636364</td>\n",
       "    </tr>\n",
       "    <tr>\n",
       "        <td>Furniture</td>\n",
       "        <td>266.25</td>\n",
       "    </tr>\n",
       "    <tr>\n",
       "        <td>Appliances</td>\n",
       "        <td>248.125</td>\n",
       "    </tr>\n",
       "    <tr>\n",
       "        <td>Sports</td>\n",
       "        <td>188.0</td>\n",
       "    </tr>\n",
       "    <tr>\n",
       "        <td>Kitchen</td>\n",
       "        <td>81.25</td>\n",
       "    </tr>\n",
       "</table>"
      ],
      "text/plain": [
       "[('Electronics', 415.3636363636364),\n",
       " ('Furniture', 266.25),\n",
       " ('Appliances', 248.125),\n",
       " ('Sports', 188.0),\n",
       " ('Kitchen', 81.25)]"
      ]
     },
     "execution_count": 30,
     "metadata": {},
     "output_type": "execute_result"
    }
   ],
   "source": [
    "%%sql\n",
    "SELECT category, AVG(price) as AVG_price\n",
    "FROM products\n",
    "GROUP BY category\n",
    "ORDER BY AVG_price DESC"
   ]
  },
  {
   "cell_type": "code",
   "execution_count": null,
   "metadata": {},
   "outputs": [],
   "source": []
  }
 ],
 "metadata": {
  "kernelspec": {
   "display_name": "Python 3",
   "language": "python",
   "name": "python3"
  },
  "language_info": {
   "codemirror_mode": {
    "name": "ipython",
    "version": 3
   },
   "file_extension": ".py",
   "mimetype": "text/x-python",
   "name": "python",
   "nbconvert_exporter": "python",
   "pygments_lexer": "ipython3",
   "version": "3.6.7"
  }
 },
 "nbformat": 4,
 "nbformat_minor": 4
}
