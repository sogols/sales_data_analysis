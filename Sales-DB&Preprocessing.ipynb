{
 "cells": [
  {
   "cell_type": "markdown",
   "metadata": {},
   "source": [
    "# SALES PROJECT - DB . SQL"
   ]
  },
  {
   "cell_type": "markdown",
   "metadata": {},
   "source": [
    "# Creating DataBase and Preprocessing"
   ]
  },
  {
   "cell_type": "code",
   "execution_count": 1,
   "metadata": {},
   "outputs": [],
   "source": [
    "%load_ext sql\n",
    "%sql sqlite:///sales.db"
   ]
  },
  {
   "cell_type": "markdown",
   "metadata": {},
   "source": [
    "## Creating Tables and Inserting Data"
   ]
  },
  {
   "cell_type": "markdown",
   "metadata": {},
   "source": [
    "### Table 1 : Customers (customer_id, name, gender, age, city)"
   ]
  },
  {
   "cell_type": "code",
   "execution_count": 2,
   "metadata": {},
   "outputs": [
    {
     "name": "stdout",
     "output_type": "stream",
     "text": [
      " * sqlite:///sales.db\n",
      "Done.\n",
      "Done.\n"
     ]
    },
    {
     "data": {
      "text/plain": [
       "[]"
      ]
     },
     "execution_count": 2,
     "metadata": {},
     "output_type": "execute_result"
    }
   ],
   "source": [
    "%%sql\n",
    "\n",
    "-- Drop tables if exist\n",
    "DROP TABLE IF EXISTS Customers;\n",
    "\n",
    "-- Create Customers table\n",
    "CREATE TABLE Customers (\n",
    "    customer_id INTEGER PRIMARY KEY,\n",
    "    name TEXT,\n",
    "    gender TEXT,\n",
    "    age INTEGER,\n",
    "    city TEXT\n",
    ");"
   ]
  },
  {
   "cell_type": "code",
   "execution_count": 3,
   "metadata": {},
   "outputs": [
    {
     "name": "stdout",
     "output_type": "stream",
     "text": [
      " * sqlite:///sales.db\n",
      "Done.\n"
     ]
    },
    {
     "data": {
      "text/plain": [
       "[]"
      ]
     },
     "execution_count": 3,
     "metadata": {},
     "output_type": "execute_result"
    }
   ],
   "source": [
    "%%sql\n",
    "\n",
    "-- Insert Customers (20+ records, some with missing age or city)\n",
    "INSERT INTO Customers (name, gender, age, city) VALUES\n",
    "('John Smith', 'M', 28, 'New York'),\n",
    "('Emma Johnson', 'F', 34, 'Los Angeles'),\n",
    "('Michael Brown', 'M', 22, 'Chicago'),\n",
    "('Olivia Davis', 'F', 45, 'Houston'),\n",
    "('William Wilson', 'M', NULL, 'Phoenix'), -- missing age\n",
    "('Sophia Martinez', 'F', 29, NULL),        -- missing city\n",
    "('James Anderson', 'M', 31, 'Philadelphia'),\n",
    "('Isabella Thomas', 'F', 27, 'San Antonio'),\n",
    "('Benjamin Jackson', 'M', 40, 'San Diego'),\n",
    "('Mia White', 'F', 35, 'Dallas'),\n",
    "('Elijah Harris', 'M', 26, 'San Jose'),\n",
    "('Charlotte Martin', 'F', 33, 'Austin'),\n",
    "('Alexander Thompson', 'M', 38, 'Jacksonville'),\n",
    "('Amelia Garcia', 'F', 24, 'Fort Worth'),\n",
    "('Daniel Martinez', 'M', 30, 'Columbus'),\n",
    "('Harper Robinson', 'F', 29, 'Charlotte'),\n",
    "('Matthew Clark', 'M', NULL, NULL),         -- missing age and city\n",
    "('Evelyn Rodriguez', 'F', 42, 'San Francisco'),\n",
    "('Joseph Lewis', 'M', 37, 'Indianapolis'),\n",
    "('Kevin Garvy', 'M', 45, 'Austin'),\n",
    "('Jill Garvy', 'F', 19, 'New York'),\n",
    "('James Potter', 'M', 40, 'Phoenix'),\n",
    "('Lily Potter', 'F', NULL, 'Phoenix'),\n",
    "('Laurel Gomez', 'F', 32, 'Los Angeles'),\n",
    "('Frank Diaz', 'M', NULL, 'Phoenix'),\n",
    "('Rafael Nadal', 'M', 39, 'San Jose'),\n",
    "('Roger Federer', 'M', 41, 'Los Angeles'),\n",
    "('Alexander Zverev', 'M', 26, 'Los Angeles'),\n",
    "('Stephen Salvatore', 'M', NULL, 'Virginia'),\n",
    "('Damon Salvatore', 'M', NULL, 'Virginia'),\n",
    "('Elena Gilbert', 'F', NULL, 'Virginia'),\n",
    "('Caroline Forbes', 'F', NULL, 'Virginia'),\n",
    "('Abigail Lee', 'F', 32, 'Seattle'),\n",
    "('Adam Adams', 'M', 34, 'Los Angeles');"
   ]
  },
  {
   "cell_type": "markdown",
   "metadata": {},
   "source": [
    "### Table 2 : Products (product_id, product_name, category, price)"
   ]
  },
  {
   "cell_type": "code",
   "execution_count": 4,
   "metadata": {},
   "outputs": [
    {
     "name": "stdout",
     "output_type": "stream",
     "text": [
      " * sqlite:///sales.db\n",
      "Done.\n",
      "Done.\n"
     ]
    },
    {
     "data": {
      "text/plain": [
       "[]"
      ]
     },
     "execution_count": 4,
     "metadata": {},
     "output_type": "execute_result"
    }
   ],
   "source": [
    "%%sql\n",
    "\n",
    "-- Drop tables if exist\n",
    "DROP TABLE IF EXISTS Products;\n",
    "\n",
    "-- Create Products table\n",
    "CREATE TABLE Products (\n",
    "    product_id INTEGER PRIMARY KEY,\n",
    "    product_name TEXT,\n",
    "    category TEXT,\n",
    "    price REAL\n",
    ");"
   ]
  },
  {
   "cell_type": "code",
   "execution_count": 5,
   "metadata": {},
   "outputs": [
    {
     "name": "stdout",
     "output_type": "stream",
     "text": [
      " * sqlite:///sales.db\n",
      "Done.\n"
     ]
    },
    {
     "data": {
      "text/plain": [
       "[]"
      ]
     },
     "execution_count": 5,
     "metadata": {},
     "output_type": "execute_result"
    }
   ],
   "source": [
    "%%sql\n",
    "\n",
    "-- Insert Products (30 records, some with zero or negative prices)\n",
    "INSERT INTO Products (product_name, category, price) VALUES\n",
    "('Laptop Dell XPS', 'Electronics', 1200),\n",
    "('Smartphone iPhone', 'Electronics', 999),\n",
    "('Bluetooth Headphones', 'Electronics', 150),\n",
    "('Office Chair', 'Furniture', 300),\n",
    "('LED Desk Lamp', 'Furniture', 45),\n",
    "('Coffee Maker', 'Appliances', 80),\n",
    "('Electric Kettle', 'Appliances', 35),\n",
    "('Smartwatch Samsung', 'Electronics', 200),\n",
    "('Yoga Mat', 'Sports', 25),\n",
    "('Mountain Bike', 'Sports', 700),\n",
    "('Tennis Racket', 'Sports', 120),\n",
    "('Water Bottle', 'Sports', 10),\n",
    "('Cookware Set', 'Kitchen', 150),\n",
    "('Knife Set', 'Kitchen', 90),\n",
    "('Microwave Oven', 'Appliances', 250),\n",
    "('Vacuum Cleaner', 'Appliances', 180),\n",
    "('Dining Table', 'Furniture', 600),\n",
    "('Bookshelf', 'Furniture', 120),\n",
    "('Gaming Console', 'Electronics', 400),\n",
    "('USB Flash Drive 64GB', 'Electronics', 20),\n",
    "('Wireless Mouse', 'Electronics', 25),\n",
    "('Keyboard Mechanical', 'Electronics', 75),\n",
    "('Refrigerator', 'Appliances', 0),         -- price zero, needs fix\n",
    "('Dishwasher', 'Appliances', -150),        -- negative price, needs fix\n",
    "('Air Conditioner', 'Appliances', 350),\n",
    "('Hair Dryer', 'Appliances', 40),\n",
    "('Running Shoes', 'Sports', 85),\n",
    "('Smart TV', 'Electronics', 900),\n",
    "('Tablet iPad', 'Electronics', 400),\n",
    "('Knife', 'Kitchen', 25),\n",
    "('Airpods', 'Electronics', 200),\n",
    "('Blender', 'Kitchen', 60);"
   ]
  },
  {
   "cell_type": "markdown",
   "metadata": {},
   "source": [
    "### Table 3 : Orders (order_id, customer_id, order_date)"
   ]
  },
  {
   "cell_type": "code",
   "execution_count": 6,
   "metadata": {},
   "outputs": [
    {
     "name": "stdout",
     "output_type": "stream",
     "text": [
      " * sqlite:///sales.db\n",
      "Done.\n",
      "Done.\n"
     ]
    },
    {
     "data": {
      "text/plain": [
       "[]"
      ]
     },
     "execution_count": 6,
     "metadata": {},
     "output_type": "execute_result"
    }
   ],
   "source": [
    "%%sql\n",
    "\n",
    "-- Drop tables if exist\n",
    "DROP TABLE IF EXISTS Orders;\n",
    "\n",
    "-- Create Orders table\n",
    "CREATE TABLE Orders (\n",
    "    order_id INTEGER PRIMARY KEY,\n",
    "    customer_id INTEGER,\n",
    "    order_date TEXT,\n",
    "    FOREIGN KEY(customer_id) REFERENCES Customers(customer_id)\n",
    ");"
   ]
  },
  {
   "cell_type": "code",
   "execution_count": 7,
   "metadata": {},
   "outputs": [
    {
     "name": "stdout",
     "output_type": "stream",
     "text": [
      " * sqlite:///sales.db\n",
      "Done.\n"
     ]
    },
    {
     "data": {
      "text/plain": [
       "[]"
      ]
     },
     "execution_count": 7,
     "metadata": {},
     "output_type": "execute_result"
    }
   ],
   "source": [
    "%%sql\n",
    "\n",
    "-- Insert Orders (100 records, some with invalid or missing dates)\n",
    "INSERT INTO Orders (customer_id, order_date) VALUES\n",
    "(1, '2024-02-15'),\n",
    "(2, '2024-02-18'),\n",
    "(3, '2024-03-10'),\n",
    "(4, '2024-01-20'),\n",
    "(5, NULL),             -- missing date\n",
    "(6, '2024-05-12'),\n",
    "(7, 'invalid-date'),   -- invalid date\n",
    "(8, '2024-06-02'),\n",
    "(9, '2024-04-15'),\n",
    "(10, '2024-03-22'),\n",
    "(11, '2024-05-30'),\n",
    "(12, '2024-01-08'),\n",
    "(13, '2024-02-25'),\n",
    "(14, '2024-06-15'),\n",
    "(15, '2024-04-10'),\n",
    "(16, '2024-03-05'),\n",
    "(17, '2024-02-11'),\n",
    "(18, '2024-01-15'),\n",
    "(19, '2024-06-07'),\n",
    "(20, '2024-05-01'),\n",
    "(1, '2024-02-28'),\n",
    "(2, '2024-04-01'),\n",
    "(3, '2024-04-15'),\n",
    "(4, '2024-05-10'),\n",
    "(5, '2024-05-25'),\n",
    "(6, '2024-06-01'),\n",
    "(7, '2024-06-05'),\n",
    "(8, '2024-06-10'),\n",
    "(9, '2024-06-15'),\n",
    "(10, '2024-06-20'),\n",
    "(11, NULL),               -- missing date\n",
    "(12, '2024-02-10'),\n",
    "(13, '2024-03-12'),\n",
    "(14, '2024-04-22'),\n",
    "(15, '2024-05-30'),\n",
    "(16, '2024-06-01'),\n",
    "(17, 'invalid-date'),     -- invalid date\n",
    "(18, '2024-06-15'),\n",
    "(19, '2024-06-20'),\n",
    "(20, '2024-06-25'),\n",
    "(1, '2024-03-05'),\n",
    "(2, '2024-03-15'),\n",
    "(3, '2024-04-01'),\n",
    "(4, '2024-04-10'),\n",
    "(5, '2024-04-15'),\n",
    "(6, '2024-04-20'),\n",
    "(7, '2024-05-01'),\n",
    "(8, '2024-05-05'),\n",
    "(9, '2024-05-10'),\n",
    "(10, '2024-05-15'),\n",
    "(11, '2024-05-20'),\n",
    "(12, '2024-05-25'),\n",
    "(13, NULL),               -- missing date\n",
    "(14, '2024-06-01'),\n",
    "(15, 'invalid-date'),     -- invalid date\n",
    "(16, '2024-06-10'),\n",
    "(17, '2024-06-15'),\n",
    "(18, '2024-06-20'),\n",
    "(19, '2024-06-25'),\n",
    "(20, '2024-06-30'),\n",
    "(1, '2024-01-10'),\n",
    "(2, '2024-01-15'),\n",
    "(3, '2024-01-20'),\n",
    "(4, '2024-01-25'),\n",
    "(5, '2024-01-30'),\n",
    "(6, '2024-02-05'),\n",
    "(7, '2024-02-10'),\n",
    "(8, '2024-02-15'),\n",
    "(9, '2024-02-20'),\n",
    "(10, '2024-02-25'),\n",
    "(11, '2024-03-01'),\n",
    "(12, '2024-03-10'),\n",
    "(13, '2024-03-15'),\n",
    "(14, '2024-03-20'),\n",
    "(15, '2024-03-25'),\n",
    "(16, '2024-03-30'),\n",
    "(17, '2024-04-05'),\n",
    "(18, '2024-04-10'),\n",
    "(19, '2024-04-15'),\n",
    "(20, '2024-04-20'),\n",
    "(1, '2024-04-25'),\n",
    "(2, '2024-05-01'),\n",
    "(3, '2024-05-05'),\n",
    "(4, '2024-05-10'),\n",
    "(5, '2024-05-15'),\n",
    "(6, '2024-05-20'),\n",
    "(7, '2024-05-25'),\n",
    "(8, '2024-05-30'),\n",
    "(9, '2024-06-01'),\n",
    "(10, '2024-06-05'),\n",
    "(11, '2024-12-05'),\n",
    "(12, '2024-11-10'),\n",
    "(13, '2024-12-15'),\n",
    "(14, '2024-10-20'),\n",
    "(15, '2024-09-25'),\n",
    "(16, '2024-08-30'),\n",
    "(17, '2024-07-05'),\n",
    "(18, '2024-08-10'),\n",
    "(19, '2024-09-15'),\n",
    "(20, '2024-10-20'),\n",
    "(21, '2024-01-25'),\n",
    "(22, '2024-09-26'),\n",
    "(23, '2024-01-27'),\n",
    "(24, '2024-05-28'),\n",
    "(25, '2024-04-29'),\n",
    "(26, '2024-03-02'),\n",
    "(27, '2024-11-20'),\n",
    "(28, '2024-10-03'),\n",
    "(29, '2024-08-30'),\n",
    "(30, '2024-07-29'),\n",
    "(31, '2024-11-06'),\n",
    "(32, '2024-12-08'),\n",
    "(33, '2024-12-09'),\n",
    "(32, '2024-12-10'),\n",
    "(31, '2024-02-25'),\n",
    "(30, '2024-01-28'),\n",
    "(29, '2024-03-20'),\n",
    "(28, '2024-04-20'),\n",
    "(27, '2024-05-29'),\n",
    "(26, '2024-06-14'),\n",
    "(30, '2024-04-15'),\n",
    "(31, '2024-04-16'),\n",
    "(25, '2024-08-20'),\n",
    "(22, '2024-01-15'),\n",
    "(34, '2024-07-21'),\n",
    "(34, '2024-07-19'),\n",
    "(33, '2024-10-09'),\n",
    "(34, '2024-09-29'),\n",
    "(32, '2024-11-09'),\n",
    "(34, '2024-07-09');"
   ]
  },
  {
   "cell_type": "markdown",
   "metadata": {},
   "source": [
    "### Table 4 : OrderDetails (order_detail_id, order_id, product_id, quantity)"
   ]
  },
  {
   "cell_type": "code",
   "execution_count": 8,
   "metadata": {},
   "outputs": [
    {
     "name": "stdout",
     "output_type": "stream",
     "text": [
      " * sqlite:///sales.db\n",
      "Done.\n",
      "Done.\n"
     ]
    },
    {
     "data": {
      "text/plain": [
       "[]"
      ]
     },
     "execution_count": 8,
     "metadata": {},
     "output_type": "execute_result"
    }
   ],
   "source": [
    "%%sql\n",
    "\n",
    "-- Drop tables if exist\n",
    "DROP TABLE IF EXISTS OrderDetails;\n",
    "\n",
    "-- Create OrderDetails table\n",
    "CREATE TABLE OrderDetails (\n",
    "    order_detail_id INTEGER PRIMARY KEY,\n",
    "    order_id INTEGER,\n",
    "    product_id INTEGER,\n",
    "    quantity INTEGER,\n",
    "    FOREIGN KEY(order_id) REFERENCES Orders(order_id),\n",
    "    FOREIGN KEY(product_id) REFERENCES Products(product_id)\n",
    ");"
   ]
  },
  {
   "cell_type": "code",
   "execution_count": 10,
   "metadata": {},
   "outputs": [
    {
     "name": "stdout",
     "output_type": "stream",
     "text": [
      " * sqlite:///sales.db\n",
      "Done.\n"
     ]
    },
    {
     "data": {
      "text/plain": [
       "[]"
      ]
     },
     "execution_count": 10,
     "metadata": {},
     "output_type": "execute_result"
    }
   ],
   "source": [
    "%%sql\n",
    "\n",
    "-- Insert OrderDetails (several entries per order, quantity varies)\n",
    "INSERT INTO OrderDetails (order_id, product_id, quantity) VALUES\n",
    "(1, 1, 1),\n",
    "(1, 3, 2),\n",
    "(2, 5, 1),\n",
    "(2, 6, 1),\n",
    "(3, 2, 1),\n",
    "(3, 10, 1),\n",
    "(4, 4, 2),\n",
    "(5, 7, 6),\n",
    "(6, 8, 3),\n",
    "(7, 9, 1),\n",
    "(8, 11, 2),\n",
    "(9, 12, 1),\n",
    "(10, 13, 1),\n",
    "(21, 1, 1),\n",
    "(21, 4, 2),\n",
    "(22, 2, 1),\n",
    "(22, 3, 1),\n",
    "(23, 5, 6),\n",
    "(23, 6, 1),\n",
    "(24, 7, 2),\n",
    "(25, 8, 1),\n",
    "(26, 9, 1),\n",
    "(27, 10, 3),\n",
    "(28, 11, 2),\n",
    "(29, 12, 1),\n",
    "(30, 13, 1),\n",
    "(31, 14, 2),\n",
    "(32, 15, 6),\n",
    "(33, 16, 1),\n",
    "(34, 17, 3),\n",
    "(35, 18, 2),\n",
    "(36, 19, 1),\n",
    "(37, 20, 1),\n",
    "(38, 21, 7),\n",
    "(39, 22, 2),\n",
    "(40, 23, 1),\n",
    "(41, 24, 1),\n",
    "(42, 25, 3),\n",
    "(43, 26, 1),\n",
    "(44, 27, 2),\n",
    "(45, 28, 1),\n",
    "(46, 29, 1),\n",
    "(47, 30, 1),\n",
    "(48, 1, 2),\n",
    "(49, 2, 1),\n",
    "(50, 3, 1),\n",
    "(51, 4, 5),\n",
    "(52, 5, 2),\n",
    "(53, 6, 1),\n",
    "(54, 7, 3),\n",
    "(55, 8, 1),\n",
    "(56, 9, 1),\n",
    "(57, 10, 2),\n",
    "(58, 11, 1),\n",
    "(59, 12, 1),\n",
    "(60, 13, 3),\n",
    "(61, 14, 1),\n",
    "(62, 15, 2),\n",
    "(63, 16, 1),\n",
    "(64, 17, 4),\n",
    "(65, 18, 1),\n",
    "(66, 19, 2),\n",
    "(67, 20, 1),\n",
    "(68, 21, 1),\n",
    "(69, 22, 1),\n",
    "(70, 23, 2),\n",
    "(71, 24, 5),\n",
    "(72, 25, 3),\n",
    "(73, 26, 1),\n",
    "(74, 27, 2),\n",
    "(75, 28, 1),\n",
    "(76, 29, 1),\n",
    "(77, 30, 1),\n",
    "(78, 1, 2),\n",
    "(79, 2, 1),\n",
    "(80, 3, 1),\n",
    "(81, 4, 2),\n",
    "(82, 5, 1),\n",
    "(83, 6, 3),\n",
    "(84, 7, 1),\n",
    "(85, 8, 2),\n",
    "(86, 9, 1),\n",
    "(87, 10, 1),\n",
    "(88, 11, 2),\n",
    "(88, 31, 2),\n",
    "(88, 28, 1),\n",
    "(89, 12, 1),\n",
    "(90, 13, 1),\n",
    "(91, 14, 3),\n",
    "(92, 15, 2),\n",
    "(93, 16, 5),\n",
    "(94, 17, 1),\n",
    "(95, 18, 1),\n",
    "(96, 19, 2),\n",
    "(97, 20, 1),\n",
    "(98, 21, 1),\n",
    "(98, 1, 1),\n",
    "(98, 3, 1),\n",
    "(98, 31, 1),\n",
    "(99, 22, 1),\n",
    "(100, 23, 2),\n",
    "(101, 23, 1),\n",
    "(102, 23, 3),\n",
    "(103, 23, 2),\n",
    "(104, 23, 1),\n",
    "(104, 12, 4),\n",
    "(104, 14, 1),\n",
    "(104, 25, 1),\n",
    "(104, 28, 2),\n",
    "(105, 23, 1),\n",
    "(106, 24, 1),\n",
    "(107, 25, 3),\n",
    "(108, 26, 2),\n",
    "(109, 27, 4),\n",
    "(109, 13, 3),\n",
    "(109, 4, 2),\n",
    "(109, 14, 1),\n",
    "(110, 28, 2),\n",
    "(111, 29, 1),\n",
    "(112, 30, 1),\n",
    "(113, 31, 1),\n",
    "(114, 32, 5),\n",
    "(115, 33, 2),\n",
    "(115, 31, 2),\n",
    "(115, 3, 2),\n",
    "(115, 13, 1),\n",
    "(116, 32, 1),\n",
    "(117, 31, 6),\n",
    "(118, 30, 1),\n",
    "(119, 30, 2),\n",
    "(120, 28, 1),\n",
    "(121, 27, 4),\n",
    "(122, 26, 2),\n",
    "(123, 25, 3),\n",
    "(124, 25, 1),\n",
    "(124, 21, 1),\n",
    "(124, 22, 1),\n",
    "(124, 23, 1),\n",
    "(124, 24, 1),\n",
    "(125, 24, 1),\n",
    "(126, 31, 5),\n",
    "(127, 30, 4),\n",
    "(128, 29, 5),\n",
    "(129, 28, 3),\n",
    "(130, 27, 2),\n",
    "(131, 26, 5);"
   ]
  },
  {
   "cell_type": "markdown",
   "metadata": {},
   "source": [
    "## Pre-Processing Data"
   ]
  },
  {
   "cell_type": "code",
   "execution_count": 11,
   "metadata": {},
   "outputs": [
    {
     "name": "stdout",
     "output_type": "stream",
     "text": [
      " * sqlite:///sales.db\n",
      "Done.\n"
     ]
    },
    {
     "data": {
      "text/html": [
       "<table>\n",
       "    <tr>\n",
       "        <th>customer_id</th>\n",
       "        <th>name</th>\n",
       "        <th>gender</th>\n",
       "        <th>age</th>\n",
       "        <th>city</th>\n",
       "    </tr>\n",
       "    <tr>\n",
       "        <td>1</td>\n",
       "        <td>John Smith</td>\n",
       "        <td>M</td>\n",
       "        <td>28</td>\n",
       "        <td>New York</td>\n",
       "    </tr>\n",
       "    <tr>\n",
       "        <td>2</td>\n",
       "        <td>Emma Johnson</td>\n",
       "        <td>F</td>\n",
       "        <td>34</td>\n",
       "        <td>Los Angeles</td>\n",
       "    </tr>\n",
       "    <tr>\n",
       "        <td>3</td>\n",
       "        <td>Michael Brown</td>\n",
       "        <td>M</td>\n",
       "        <td>22</td>\n",
       "        <td>Chicago</td>\n",
       "    </tr>\n",
       "    <tr>\n",
       "        <td>4</td>\n",
       "        <td>Olivia Davis</td>\n",
       "        <td>F</td>\n",
       "        <td>45</td>\n",
       "        <td>Houston</td>\n",
       "    </tr>\n",
       "    <tr>\n",
       "        <td>5</td>\n",
       "        <td>William Wilson</td>\n",
       "        <td>M</td>\n",
       "        <td>None</td>\n",
       "        <td>Phoenix</td>\n",
       "    </tr>\n",
       "    <tr>\n",
       "        <td>6</td>\n",
       "        <td>Sophia Martinez</td>\n",
       "        <td>F</td>\n",
       "        <td>29</td>\n",
       "        <td>None</td>\n",
       "    </tr>\n",
       "    <tr>\n",
       "        <td>7</td>\n",
       "        <td>James Anderson</td>\n",
       "        <td>M</td>\n",
       "        <td>31</td>\n",
       "        <td>Philadelphia</td>\n",
       "    </tr>\n",
       "    <tr>\n",
       "        <td>8</td>\n",
       "        <td>Isabella Thomas</td>\n",
       "        <td>F</td>\n",
       "        <td>27</td>\n",
       "        <td>San Antonio</td>\n",
       "    </tr>\n",
       "    <tr>\n",
       "        <td>9</td>\n",
       "        <td>Benjamin Jackson</td>\n",
       "        <td>M</td>\n",
       "        <td>40</td>\n",
       "        <td>San Diego</td>\n",
       "    </tr>\n",
       "    <tr>\n",
       "        <td>10</td>\n",
       "        <td>Mia White</td>\n",
       "        <td>F</td>\n",
       "        <td>35</td>\n",
       "        <td>Dallas</td>\n",
       "    </tr>\n",
       "</table>"
      ],
      "text/plain": [
       "[(1, 'John Smith', 'M', 28, 'New York'),\n",
       " (2, 'Emma Johnson', 'F', 34, 'Los Angeles'),\n",
       " (3, 'Michael Brown', 'M', 22, 'Chicago'),\n",
       " (4, 'Olivia Davis', 'F', 45, 'Houston'),\n",
       " (5, 'William Wilson', 'M', None, 'Phoenix'),\n",
       " (6, 'Sophia Martinez', 'F', 29, None),\n",
       " (7, 'James Anderson', 'M', 31, 'Philadelphia'),\n",
       " (8, 'Isabella Thomas', 'F', 27, 'San Antonio'),\n",
       " (9, 'Benjamin Jackson', 'M', 40, 'San Diego'),\n",
       " (10, 'Mia White', 'F', 35, 'Dallas')]"
      ]
     },
     "execution_count": 11,
     "metadata": {},
     "output_type": "execute_result"
    }
   ],
   "source": [
    "%%sql\n",
    "\n",
    "--Customers\n",
    "SELECT * FROM Customers LIMIT 10;"
   ]
  },
  {
   "cell_type": "code",
   "execution_count": 24,
   "metadata": {},
   "outputs": [
    {
     "name": "stdout",
     "output_type": "stream",
     "text": [
      " * sqlite:///sales.db\n",
      "Done.\n"
     ]
    },
    {
     "data": {
      "text/html": [
       "<table>\n",
       "    <tr>\n",
       "        <th>product_id</th>\n",
       "        <th>product_name</th>\n",
       "        <th>category</th>\n",
       "        <th>price</th>\n",
       "    </tr>\n",
       "    <tr>\n",
       "        <td>1</td>\n",
       "        <td>Laptop Dell XPS</td>\n",
       "        <td>Electronics</td>\n",
       "        <td>1200.0</td>\n",
       "    </tr>\n",
       "    <tr>\n",
       "        <td>2</td>\n",
       "        <td>Smartphone iPhone</td>\n",
       "        <td>Electronics</td>\n",
       "        <td>999.0</td>\n",
       "    </tr>\n",
       "    <tr>\n",
       "        <td>3</td>\n",
       "        <td>Bluetooth Headphones</td>\n",
       "        <td>Electronics</td>\n",
       "        <td>150.0</td>\n",
       "    </tr>\n",
       "    <tr>\n",
       "        <td>4</td>\n",
       "        <td>Office Chair</td>\n",
       "        <td>Furniture</td>\n",
       "        <td>300.0</td>\n",
       "    </tr>\n",
       "    <tr>\n",
       "        <td>5</td>\n",
       "        <td>LED Desk Lamp</td>\n",
       "        <td>Furniture</td>\n",
       "        <td>45.0</td>\n",
       "    </tr>\n",
       "    <tr>\n",
       "        <td>6</td>\n",
       "        <td>Coffee Maker</td>\n",
       "        <td>Appliances</td>\n",
       "        <td>80.0</td>\n",
       "    </tr>\n",
       "    <tr>\n",
       "        <td>7</td>\n",
       "        <td>Electric Kettle</td>\n",
       "        <td>Appliances</td>\n",
       "        <td>35.0</td>\n",
       "    </tr>\n",
       "    <tr>\n",
       "        <td>8</td>\n",
       "        <td>Smartwatch Samsung</td>\n",
       "        <td>Electronics</td>\n",
       "        <td>200.0</td>\n",
       "    </tr>\n",
       "    <tr>\n",
       "        <td>9</td>\n",
       "        <td>Yoga Mat</td>\n",
       "        <td>Sports</td>\n",
       "        <td>25.0</td>\n",
       "    </tr>\n",
       "    <tr>\n",
       "        <td>10</td>\n",
       "        <td>Mountain Bike</td>\n",
       "        <td>Sports</td>\n",
       "        <td>700.0</td>\n",
       "    </tr>\n",
       "    <tr>\n",
       "        <td>11</td>\n",
       "        <td>Tennis Racket</td>\n",
       "        <td>Sports</td>\n",
       "        <td>120.0</td>\n",
       "    </tr>\n",
       "    <tr>\n",
       "        <td>12</td>\n",
       "        <td>Water Bottle</td>\n",
       "        <td>Sports</td>\n",
       "        <td>10.0</td>\n",
       "    </tr>\n",
       "    <tr>\n",
       "        <td>13</td>\n",
       "        <td>Cookware Set</td>\n",
       "        <td>Kitchen</td>\n",
       "        <td>150.0</td>\n",
       "    </tr>\n",
       "    <tr>\n",
       "        <td>14</td>\n",
       "        <td>Knife Set</td>\n",
       "        <td>Kitchen</td>\n",
       "        <td>90.0</td>\n",
       "    </tr>\n",
       "    <tr>\n",
       "        <td>15</td>\n",
       "        <td>Microwave Oven</td>\n",
       "        <td>Appliances</td>\n",
       "        <td>250.0</td>\n",
       "    </tr>\n",
       "    <tr>\n",
       "        <td>16</td>\n",
       "        <td>Vacuum Cleaner</td>\n",
       "        <td>Appliances</td>\n",
       "        <td>180.0</td>\n",
       "    </tr>\n",
       "    <tr>\n",
       "        <td>17</td>\n",
       "        <td>Dining Table</td>\n",
       "        <td>Furniture</td>\n",
       "        <td>600.0</td>\n",
       "    </tr>\n",
       "    <tr>\n",
       "        <td>18</td>\n",
       "        <td>Bookshelf</td>\n",
       "        <td>Furniture</td>\n",
       "        <td>120.0</td>\n",
       "    </tr>\n",
       "    <tr>\n",
       "        <td>19</td>\n",
       "        <td>Gaming Console</td>\n",
       "        <td>Electronics</td>\n",
       "        <td>400.0</td>\n",
       "    </tr>\n",
       "    <tr>\n",
       "        <td>20</td>\n",
       "        <td>USB Flash Drive 64GB</td>\n",
       "        <td>Electronics</td>\n",
       "        <td>20.0</td>\n",
       "    </tr>\n",
       "    <tr>\n",
       "        <td>21</td>\n",
       "        <td>Wireless Mouse</td>\n",
       "        <td>Electronics</td>\n",
       "        <td>25.0</td>\n",
       "    </tr>\n",
       "    <tr>\n",
       "        <td>22</td>\n",
       "        <td>Keyboard Mechanical</td>\n",
       "        <td>Electronics</td>\n",
       "        <td>75.0</td>\n",
       "    </tr>\n",
       "    <tr>\n",
       "        <td>23</td>\n",
       "        <td>Refrigerator</td>\n",
       "        <td>Appliances</td>\n",
       "        <td>500.0</td>\n",
       "    </tr>\n",
       "    <tr>\n",
       "        <td>24</td>\n",
       "        <td>Dishwasher</td>\n",
       "        <td>Appliances</td>\n",
       "        <td>550.0</td>\n",
       "    </tr>\n",
       "    <tr>\n",
       "        <td>25</td>\n",
       "        <td>Air Conditioner</td>\n",
       "        <td>Appliances</td>\n",
       "        <td>350.0</td>\n",
       "    </tr>\n",
       "    <tr>\n",
       "        <td>26</td>\n",
       "        <td>Hair Dryer</td>\n",
       "        <td>Appliances</td>\n",
       "        <td>40.0</td>\n",
       "    </tr>\n",
       "    <tr>\n",
       "        <td>27</td>\n",
       "        <td>Running Shoes</td>\n",
       "        <td>Sports</td>\n",
       "        <td>85.0</td>\n",
       "    </tr>\n",
       "    <tr>\n",
       "        <td>28</td>\n",
       "        <td>Smart TV</td>\n",
       "        <td>Electronics</td>\n",
       "        <td>900.0</td>\n",
       "    </tr>\n",
       "    <tr>\n",
       "        <td>29</td>\n",
       "        <td>Tablet iPad</td>\n",
       "        <td>Electronics</td>\n",
       "        <td>400.0</td>\n",
       "    </tr>\n",
       "    <tr>\n",
       "        <td>30</td>\n",
       "        <td>Knife</td>\n",
       "        <td>Kitchen</td>\n",
       "        <td>25.0</td>\n",
       "    </tr>\n",
       "    <tr>\n",
       "        <td>31</td>\n",
       "        <td>Airpods</td>\n",
       "        <td>Electronics</td>\n",
       "        <td>200.0</td>\n",
       "    </tr>\n",
       "    <tr>\n",
       "        <td>32</td>\n",
       "        <td>Blender</td>\n",
       "        <td>Kitchen</td>\n",
       "        <td>60.0</td>\n",
       "    </tr>\n",
       "</table>"
      ],
      "text/plain": [
       "[(1, 'Laptop Dell XPS', 'Electronics', 1200.0),\n",
       " (2, 'Smartphone iPhone', 'Electronics', 999.0),\n",
       " (3, 'Bluetooth Headphones', 'Electronics', 150.0),\n",
       " (4, 'Office Chair', 'Furniture', 300.0),\n",
       " (5, 'LED Desk Lamp', 'Furniture', 45.0),\n",
       " (6, 'Coffee Maker', 'Appliances', 80.0),\n",
       " (7, 'Electric Kettle', 'Appliances', 35.0),\n",
       " (8, 'Smartwatch Samsung', 'Electronics', 200.0),\n",
       " (9, 'Yoga Mat', 'Sports', 25.0),\n",
       " (10, 'Mountain Bike', 'Sports', 700.0),\n",
       " (11, 'Tennis Racket', 'Sports', 120.0),\n",
       " (12, 'Water Bottle', 'Sports', 10.0),\n",
       " (13, 'Cookware Set', 'Kitchen', 150.0),\n",
       " (14, 'Knife Set', 'Kitchen', 90.0),\n",
       " (15, 'Microwave Oven', 'Appliances', 250.0),\n",
       " (16, 'Vacuum Cleaner', 'Appliances', 180.0),\n",
       " (17, 'Dining Table', 'Furniture', 600.0),\n",
       " (18, 'Bookshelf', 'Furniture', 120.0),\n",
       " (19, 'Gaming Console', 'Electronics', 400.0),\n",
       " (20, 'USB Flash Drive 64GB', 'Electronics', 20.0),\n",
       " (21, 'Wireless Mouse', 'Electronics', 25.0),\n",
       " (22, 'Keyboard Mechanical', 'Electronics', 75.0),\n",
       " (23, 'Refrigerator', 'Appliances', 500.0),\n",
       " (24, 'Dishwasher', 'Appliances', 550.0),\n",
       " (25, 'Air Conditioner', 'Appliances', 350.0),\n",
       " (26, 'Hair Dryer', 'Appliances', 40.0),\n",
       " (27, 'Running Shoes', 'Sports', 85.0),\n",
       " (28, 'Smart TV', 'Electronics', 900.0),\n",
       " (29, 'Tablet iPad', 'Electronics', 400.0),\n",
       " (30, 'Knife', 'Kitchen', 25.0),\n",
       " (31, 'Airpods', 'Electronics', 200.0),\n",
       " (32, 'Blender', 'Kitchen', 60.0)]"
      ]
     },
     "execution_count": 24,
     "metadata": {},
     "output_type": "execute_result"
    }
   ],
   "source": [
    "%%sql\n",
    "\n",
    "--Products\n",
    "SELECT * FROM Products\n",
    "--LIMIT 10;"
   ]
  },
  {
   "cell_type": "code",
   "execution_count": 13,
   "metadata": {},
   "outputs": [
    {
     "name": "stdout",
     "output_type": "stream",
     "text": [
      " * sqlite:///sales.db\n",
      "Done.\n"
     ]
    },
    {
     "data": {
      "text/html": [
       "<table>\n",
       "    <tr>\n",
       "        <th>order_id</th>\n",
       "        <th>customer_id</th>\n",
       "        <th>order_date</th>\n",
       "    </tr>\n",
       "    <tr>\n",
       "        <td>1</td>\n",
       "        <td>1</td>\n",
       "        <td>2024-02-15</td>\n",
       "    </tr>\n",
       "    <tr>\n",
       "        <td>2</td>\n",
       "        <td>2</td>\n",
       "        <td>2024-02-18</td>\n",
       "    </tr>\n",
       "    <tr>\n",
       "        <td>3</td>\n",
       "        <td>3</td>\n",
       "        <td>2024-03-10</td>\n",
       "    </tr>\n",
       "    <tr>\n",
       "        <td>4</td>\n",
       "        <td>4</td>\n",
       "        <td>2024-01-20</td>\n",
       "    </tr>\n",
       "    <tr>\n",
       "        <td>5</td>\n",
       "        <td>5</td>\n",
       "        <td>None</td>\n",
       "    </tr>\n",
       "    <tr>\n",
       "        <td>6</td>\n",
       "        <td>6</td>\n",
       "        <td>2024-05-12</td>\n",
       "    </tr>\n",
       "    <tr>\n",
       "        <td>7</td>\n",
       "        <td>7</td>\n",
       "        <td>invalid-date</td>\n",
       "    </tr>\n",
       "    <tr>\n",
       "        <td>8</td>\n",
       "        <td>8</td>\n",
       "        <td>2024-06-02</td>\n",
       "    </tr>\n",
       "    <tr>\n",
       "        <td>9</td>\n",
       "        <td>9</td>\n",
       "        <td>2024-04-15</td>\n",
       "    </tr>\n",
       "    <tr>\n",
       "        <td>10</td>\n",
       "        <td>10</td>\n",
       "        <td>2024-03-22</td>\n",
       "    </tr>\n",
       "</table>"
      ],
      "text/plain": [
       "[(1, 1, '2024-02-15'),\n",
       " (2, 2, '2024-02-18'),\n",
       " (3, 3, '2024-03-10'),\n",
       " (4, 4, '2024-01-20'),\n",
       " (5, 5, None),\n",
       " (6, 6, '2024-05-12'),\n",
       " (7, 7, 'invalid-date'),\n",
       " (8, 8, '2024-06-02'),\n",
       " (9, 9, '2024-04-15'),\n",
       " (10, 10, '2024-03-22')]"
      ]
     },
     "execution_count": 13,
     "metadata": {},
     "output_type": "execute_result"
    }
   ],
   "source": [
    "%%sql\n",
    "\n",
    "--Orders\n",
    "SELECT * FROM Orders LIMIT 10;"
   ]
  },
  {
   "cell_type": "code",
   "execution_count": 14,
   "metadata": {},
   "outputs": [
    {
     "name": "stdout",
     "output_type": "stream",
     "text": [
      " * sqlite:///sales.db\n",
      "Done.\n"
     ]
    },
    {
     "data": {
      "text/html": [
       "<table>\n",
       "    <tr>\n",
       "        <th>order_detail_id</th>\n",
       "        <th>order_id</th>\n",
       "        <th>product_id</th>\n",
       "        <th>quantity</th>\n",
       "    </tr>\n",
       "    <tr>\n",
       "        <td>1</td>\n",
       "        <td>1</td>\n",
       "        <td>1</td>\n",
       "        <td>1</td>\n",
       "    </tr>\n",
       "    <tr>\n",
       "        <td>2</td>\n",
       "        <td>1</td>\n",
       "        <td>3</td>\n",
       "        <td>2</td>\n",
       "    </tr>\n",
       "    <tr>\n",
       "        <td>3</td>\n",
       "        <td>2</td>\n",
       "        <td>5</td>\n",
       "        <td>1</td>\n",
       "    </tr>\n",
       "    <tr>\n",
       "        <td>4</td>\n",
       "        <td>2</td>\n",
       "        <td>6</td>\n",
       "        <td>1</td>\n",
       "    </tr>\n",
       "    <tr>\n",
       "        <td>5</td>\n",
       "        <td>3</td>\n",
       "        <td>2</td>\n",
       "        <td>1</td>\n",
       "    </tr>\n",
       "    <tr>\n",
       "        <td>6</td>\n",
       "        <td>3</td>\n",
       "        <td>10</td>\n",
       "        <td>1</td>\n",
       "    </tr>\n",
       "    <tr>\n",
       "        <td>7</td>\n",
       "        <td>4</td>\n",
       "        <td>4</td>\n",
       "        <td>2</td>\n",
       "    </tr>\n",
       "    <tr>\n",
       "        <td>8</td>\n",
       "        <td>5</td>\n",
       "        <td>7</td>\n",
       "        <td>6</td>\n",
       "    </tr>\n",
       "    <tr>\n",
       "        <td>9</td>\n",
       "        <td>6</td>\n",
       "        <td>8</td>\n",
       "        <td>3</td>\n",
       "    </tr>\n",
       "    <tr>\n",
       "        <td>10</td>\n",
       "        <td>7</td>\n",
       "        <td>9</td>\n",
       "        <td>1</td>\n",
       "    </tr>\n",
       "</table>"
      ],
      "text/plain": [
       "[(1, 1, 1, 1),\n",
       " (2, 1, 3, 2),\n",
       " (3, 2, 5, 1),\n",
       " (4, 2, 6, 1),\n",
       " (5, 3, 2, 1),\n",
       " (6, 3, 10, 1),\n",
       " (7, 4, 4, 2),\n",
       " (8, 5, 7, 6),\n",
       " (9, 6, 8, 3),\n",
       " (10, 7, 9, 1)]"
      ]
     },
     "execution_count": 14,
     "metadata": {},
     "output_type": "execute_result"
    }
   ],
   "source": [
    "%%sql\n",
    "\n",
    "--OrderDetails\n",
    "SELECT * FROM OrderDetails LIMIT 10;"
   ]
  },
  {
   "cell_type": "code",
   "execution_count": 15,
   "metadata": {},
   "outputs": [
    {
     "name": "stdout",
     "output_type": "stream",
     "text": [
      " * sqlite:///sales.db\n",
      "Done.\n"
     ]
    },
    {
     "data": {
      "text/html": [
       "<table>\n",
       "    <tr>\n",
       "        <th>customer_id</th>\n",
       "        <th>name</th>\n",
       "        <th>gender</th>\n",
       "        <th>age</th>\n",
       "        <th>city</th>\n",
       "    </tr>\n",
       "    <tr>\n",
       "        <td>5</td>\n",
       "        <td>William Wilson</td>\n",
       "        <td>M</td>\n",
       "        <td>None</td>\n",
       "        <td>Phoenix</td>\n",
       "    </tr>\n",
       "    <tr>\n",
       "        <td>6</td>\n",
       "        <td>Sophia Martinez</td>\n",
       "        <td>F</td>\n",
       "        <td>29</td>\n",
       "        <td>None</td>\n",
       "    </tr>\n",
       "    <tr>\n",
       "        <td>17</td>\n",
       "        <td>Matthew Clark</td>\n",
       "        <td>M</td>\n",
       "        <td>None</td>\n",
       "        <td>None</td>\n",
       "    </tr>\n",
       "    <tr>\n",
       "        <td>23</td>\n",
       "        <td>Lily Potter</td>\n",
       "        <td>F</td>\n",
       "        <td>None</td>\n",
       "        <td>Phoenix</td>\n",
       "    </tr>\n",
       "    <tr>\n",
       "        <td>25</td>\n",
       "        <td>Frank Diaz</td>\n",
       "        <td>M</td>\n",
       "        <td>None</td>\n",
       "        <td>Phoenix</td>\n",
       "    </tr>\n",
       "    <tr>\n",
       "        <td>29</td>\n",
       "        <td>Stephen Salvatore</td>\n",
       "        <td>M</td>\n",
       "        <td>None</td>\n",
       "        <td>Virginia</td>\n",
       "    </tr>\n",
       "    <tr>\n",
       "        <td>30</td>\n",
       "        <td>Damon Salvatore</td>\n",
       "        <td>M</td>\n",
       "        <td>None</td>\n",
       "        <td>Virginia</td>\n",
       "    </tr>\n",
       "    <tr>\n",
       "        <td>31</td>\n",
       "        <td>Elena Gilbert</td>\n",
       "        <td>F</td>\n",
       "        <td>None</td>\n",
       "        <td>Virginia</td>\n",
       "    </tr>\n",
       "    <tr>\n",
       "        <td>32</td>\n",
       "        <td>Caroline Forbes</td>\n",
       "        <td>F</td>\n",
       "        <td>None</td>\n",
       "        <td>Virginia</td>\n",
       "    </tr>\n",
       "</table>"
      ],
      "text/plain": [
       "[(5, 'William Wilson', 'M', None, 'Phoenix'),\n",
       " (6, 'Sophia Martinez', 'F', 29, None),\n",
       " (17, 'Matthew Clark', 'M', None, None),\n",
       " (23, 'Lily Potter', 'F', None, 'Phoenix'),\n",
       " (25, 'Frank Diaz', 'M', None, 'Phoenix'),\n",
       " (29, 'Stephen Salvatore', 'M', None, 'Virginia'),\n",
       " (30, 'Damon Salvatore', 'M', None, 'Virginia'),\n",
       " (31, 'Elena Gilbert', 'F', None, 'Virginia'),\n",
       " (32, 'Caroline Forbes', 'F', None, 'Virginia')]"
      ]
     },
     "execution_count": 15,
     "metadata": {},
     "output_type": "execute_result"
    }
   ],
   "source": [
    "%%sql\n",
    "\n",
    "-- Customers with no city or age\n",
    "SELECT * FROM Customers WHERE city IS NULL OR age IS NULL;"
   ]
  },
  {
   "cell_type": "code",
   "execution_count": 16,
   "metadata": {},
   "outputs": [
    {
     "name": "stdout",
     "output_type": "stream",
     "text": [
      " * sqlite:///sales.db\n",
      "Done.\n"
     ]
    },
    {
     "data": {
      "text/html": [
       "<table>\n",
       "    <tr>\n",
       "        <th>order_id</th>\n",
       "        <th>customer_id</th>\n",
       "        <th>order_date</th>\n",
       "    </tr>\n",
       "    <tr>\n",
       "        <td>5</td>\n",
       "        <td>5</td>\n",
       "        <td>None</td>\n",
       "    </tr>\n",
       "    <tr>\n",
       "        <td>7</td>\n",
       "        <td>7</td>\n",
       "        <td>invalid-date</td>\n",
       "    </tr>\n",
       "    <tr>\n",
       "        <td>31</td>\n",
       "        <td>11</td>\n",
       "        <td>None</td>\n",
       "    </tr>\n",
       "    <tr>\n",
       "        <td>37</td>\n",
       "        <td>17</td>\n",
       "        <td>invalid-date</td>\n",
       "    </tr>\n",
       "    <tr>\n",
       "        <td>53</td>\n",
       "        <td>13</td>\n",
       "        <td>None</td>\n",
       "    </tr>\n",
       "    <tr>\n",
       "        <td>55</td>\n",
       "        <td>15</td>\n",
       "        <td>invalid-date</td>\n",
       "    </tr>\n",
       "</table>"
      ],
      "text/plain": [
       "[(5, 5, None),\n",
       " (7, 7, 'invalid-date'),\n",
       " (31, 11, None),\n",
       " (37, 17, 'invalid-date'),\n",
       " (53, 13, None),\n",
       " (55, 15, 'invalid-date')]"
      ]
     },
     "execution_count": 16,
     "metadata": {},
     "output_type": "execute_result"
    }
   ],
   "source": [
    "%%sql\n",
    "\n",
    "-- Orders with no or unvalid order_date \n",
    "SELECT * FROM Orders WHERE order_date IS NULL OR order_date NOT LIKE '____-__-__';"
   ]
  },
  {
   "cell_type": "code",
   "execution_count": 17,
   "metadata": {},
   "outputs": [
    {
     "name": "stdout",
     "output_type": "stream",
     "text": [
      " * sqlite:///sales.db\n",
      "Done.\n"
     ]
    },
    {
     "data": {
      "text/html": [
       "<table>\n",
       "    <tr>\n",
       "        <th>product_id</th>\n",
       "        <th>product_name</th>\n",
       "        <th>category</th>\n",
       "        <th>price</th>\n",
       "    </tr>\n",
       "    <tr>\n",
       "        <td>23</td>\n",
       "        <td>Refrigerator</td>\n",
       "        <td>Appliances</td>\n",
       "        <td>0.0</td>\n",
       "    </tr>\n",
       "    <tr>\n",
       "        <td>24</td>\n",
       "        <td>Dishwasher</td>\n",
       "        <td>Appliances</td>\n",
       "        <td>-150.0</td>\n",
       "    </tr>\n",
       "</table>"
      ],
      "text/plain": [
       "[(23, 'Refrigerator', 'Appliances', 0.0),\n",
       " (24, 'Dishwasher', 'Appliances', -150.0)]"
      ]
     },
     "execution_count": 17,
     "metadata": {},
     "output_type": "execute_result"
    }
   ],
   "source": [
    "%%sql\n",
    "\n",
    "-- Products with no price or negative price\n",
    "SELECT * FROM Products WHERE price <= 0;"
   ]
  },
  {
   "cell_type": "markdown",
   "metadata": {},
   "source": [
    "### Data Cleaning"
   ]
  },
  {
   "cell_type": "markdown",
   "metadata": {},
   "source": [
    "##### Delete orders with no order_date : analysis is not possible without a date"
   ]
  },
  {
   "cell_type": "code",
   "execution_count": 18,
   "metadata": {},
   "outputs": [
    {
     "name": "stdout",
     "output_type": "stream",
     "text": [
      " * sqlite:///sales.db\n",
      "6 rows affected.\n"
     ]
    },
    {
     "data": {
      "text/plain": [
       "[]"
      ]
     },
     "execution_count": 18,
     "metadata": {},
     "output_type": "execute_result"
    }
   ],
   "source": [
    "%%sql\n",
    "\n",
    "DELETE FROM Orders\n",
    "WHERE order_date IS NULL\n",
    "   OR order_date NOT LIKE '____-__-__';"
   ]
  },
  {
   "cell_type": "markdown",
   "metadata": {},
   "source": [
    "##### Update customers with null city with 'Unknown'"
   ]
  },
  {
   "cell_type": "code",
   "execution_count": 19,
   "metadata": {},
   "outputs": [
    {
     "name": "stdout",
     "output_type": "stream",
     "text": [
      " * sqlite:///sales.db\n",
      "2 rows affected.\n"
     ]
    },
    {
     "data": {
      "text/plain": [
       "[]"
      ]
     },
     "execution_count": 19,
     "metadata": {},
     "output_type": "execute_result"
    }
   ],
   "source": [
    "%%sql\n",
    "\n",
    "UPDATE Customers\n",
    "SET city = 'Unknown'\n",
    "WHERE city IS NULL;\n"
   ]
  },
  {
   "cell_type": "markdown",
   "metadata": {},
   "source": [
    "##### Update customers age with null with average age"
   ]
  },
  {
   "cell_type": "code",
   "execution_count": 20,
   "metadata": {},
   "outputs": [
    {
     "name": "stdout",
     "output_type": "stream",
     "text": [
      " * sqlite:///sales.db\n",
      "Done.\n",
      "8 rows affected.\n"
     ]
    },
    {
     "data": {
      "text/plain": [
       "[]"
      ]
     },
     "execution_count": 20,
     "metadata": {},
     "output_type": "execute_result"
    }
   ],
   "source": [
    "%%sql\n",
    "\n",
    "SELECT AVG(age) FROM Customers WHERE age IS NOT NULL;\n",
    "\n",
    "UPDATE Customers\n",
    "SET age = 34\n",
    "WHERE age IS NULL;"
   ]
  },
  {
   "cell_type": "markdown",
   "metadata": {},
   "source": [
    "##### Add prices manually for products with null or negative "
   ]
  },
  {
   "cell_type": "code",
   "execution_count": 21,
   "metadata": {},
   "outputs": [
    {
     "name": "stdout",
     "output_type": "stream",
     "text": [
      " * sqlite:///sales.db\n",
      "1 rows affected.\n",
      "1 rows affected.\n"
     ]
    },
    {
     "data": {
      "text/plain": [
       "[]"
      ]
     },
     "execution_count": 21,
     "metadata": {},
     "output_type": "execute_result"
    }
   ],
   "source": [
    "%%sql\n",
    "\n",
    "UPDATE Products\n",
    "SET price =  500\n",
    "WHERE product_name = 'Refrigerator';\n",
    "\n",
    "UPDATE Products\n",
    "SET price = 550\n",
    "WHERE product_name = 'Dishwasher';"
   ]
  },
  {
   "cell_type": "markdown",
   "metadata": {},
   "source": [
    "#### Delete orders with no order details"
   ]
  },
  {
   "cell_type": "code",
   "execution_count": 22,
   "metadata": {},
   "outputs": [
    {
     "name": "stdout",
     "output_type": "stream",
     "text": [
      " * sqlite:///sales.db\n",
      "10 rows affected.\n"
     ]
    },
    {
     "data": {
      "text/plain": [
       "[]"
      ]
     },
     "execution_count": 22,
     "metadata": {},
     "output_type": "execute_result"
    }
   ],
   "source": [
    "%%sql\n",
    "\n",
    "DELETE FROM Orders\n",
    "WHERE order_id NOT IN (\n",
    "    SELECT DISTINCT order_id FROM OrderDetails\n",
    ");"
   ]
  },
  {
   "cell_type": "markdown",
   "metadata": {},
   "source": [
    "## Save data as csv"
   ]
  },
  {
   "cell_type": "code",
   "execution_count": 23,
   "metadata": {},
   "outputs": [],
   "source": [
    "import sqlite3\n",
    "import pandas as pd\n",
    "\n",
    "# Connect to database\n",
    "conn = sqlite3.connect(\"sales.db\")\n",
    "\n",
    "# Tables list\n",
    "tables = ['Customers', 'Products', 'Orders', 'OrderDetails']\n",
    "\n",
    "# Convert to csv\n",
    "for table in tables:\n",
    "    df = pd.read_sql_query(f\"SELECT * FROM {table}\", conn)\n",
    "    df.to_csv(f\"{table}.csv\", index=False)\n",
    "\n",
    "conn.close()"
   ]
  },
  {
   "cell_type": "code",
   "execution_count": null,
   "metadata": {},
   "outputs": [],
   "source": []
  }
 ],
 "metadata": {
  "kernelspec": {
   "display_name": "Python 3",
   "language": "python",
   "name": "python3"
  },
  "language_info": {
   "codemirror_mode": {
    "name": "ipython",
    "version": 3
   },
   "file_extension": ".py",
   "mimetype": "text/x-python",
   "name": "python",
   "nbconvert_exporter": "python",
   "pygments_lexer": "ipython3",
   "version": "3.6.7"
  }
 },
 "nbformat": 4,
 "nbformat_minor": 4
}
